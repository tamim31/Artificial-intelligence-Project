{
 "cells": [
  {
   "cell_type": "markdown",
   "metadata": {},
   "source": [
    "# Data Understanding\n",
    "\n",
    "The data for this data science project in researching factors influencing teenage alcoholism was sourced from the [UCI Machine Learning Repository](https://archive.ics.uci.edu/ml/datasets/student%2Bperformance#). It was donated to the site by Prof. Paulo Cortez of University Minho. His original work on the dataset, \"USING DATA MINING TO PREDICT SECONDARY SCHOOL STUDENT PERFORMANCE, can be found [here](http://www3.dsi.uminho.pt/pcortez/student.pdf)\n",
    "\n",
    "The data set consists of information on various attributes for each student, taking Portuguese language classes who come from ether of the two higher secondary schools, The Gabriel Pereira School and  the Mousinho da Silveira School. There is information on 649 students on 33 attributes. A list of all the features with description can be found on [Readme](https://github.com/Yeshi341/Student_Alcohol_Consumption/blob/master/Readme.md) section of the Github page to this project. The features have also been described sequentially as [EDA]('EDA.ipynb') was performed on each variable in the EDA notebook."
   ]
  },
  {
   "cell_type": "code",
   "execution_count": 129,
   "metadata": {},
   "outputs": [],
   "source": [
    "# Importing necessary libraries\n",
    "import pandas as pd\n",
    "import numpy as np\n",
    "import matplotlib.pyplot as plt\n",
    "%matplotlib inline\n",
    "import seaborn as sns\n",
    "\n",
    "from sklearn.model_selection import train_test_split\n",
    "from sklearn.feature_selection import SelectKBest, f_classif\n",
    "from sklearn.preprocessing import MinMaxScaler\n",
    "from sklearn import metrics\n",
    "from sklearn.linear_model import LogisticRegression\n",
    "from sklearn.model_selection import GridSearchCV\n",
    "\n",
    "\n",
    "from sklearn.metrics import classification_report,confusion_matrix"
   ]
  },
  {
   "cell_type": "code",
   "execution_count": 130,
   "metadata": {},
   "outputs": [],
   "source": [
    "df = pd.read_csv('student-por.csv')"
   ]
  },
  {
   "cell_type": "markdown",
   "metadata": {},
   "source": [
    "## Data Preparation- data cleaning and transformations"
   ]
  },
  {
   "cell_type": "code",
   "execution_count": 131,
   "metadata": {},
   "outputs": [
    {
     "name": "stdout",
     "output_type": "stream",
     "text": [
      "Rows and Columns : (649, 33) \n",
      "\n",
      "INFO:\n",
      "<class 'pandas.core.frame.DataFrame'>\n",
      "RangeIndex: 649 entries, 0 to 648\n",
      "Data columns (total 33 columns):\n",
      " #   Column      Non-Null Count  Dtype \n",
      "---  ------      --------------  ----- \n",
      " 0   school      649 non-null    object\n",
      " 1   sex         649 non-null    object\n",
      " 2   age         649 non-null    int64 \n",
      " 3   address     649 non-null    object\n",
      " 4   famsize     649 non-null    object\n",
      " 5   Pstatus     649 non-null    object\n",
      " 6   Medu        649 non-null    int64 \n",
      " 7   Fedu        649 non-null    int64 \n",
      " 8   Mjob        649 non-null    object\n",
      " 9   Fjob        649 non-null    object\n",
      " 10  reason      649 non-null    object\n",
      " 11  guardian    649 non-null    object\n",
      " 12  traveltime  649 non-null    int64 \n",
      " 13  studytime   649 non-null    int64 \n",
      " 14  failures    649 non-null    int64 \n",
      " 15  schoolsup   649 non-null    object\n",
      " 16  famsup      649 non-null    object\n",
      " 17  paid        649 non-null    object\n",
      " 18  activities  649 non-null    object\n",
      " 19  nursery     649 non-null    object\n",
      " 20  higher      649 non-null    object\n",
      " 21  internet    649 non-null    object\n",
      " 22  romantic    649 non-null    object\n",
      " 23  famrel      649 non-null    int64 \n",
      " 24  freetime    649 non-null    int64 \n",
      " 25  goout       649 non-null    int64 \n",
      " 26  Dalc        649 non-null    int64 \n",
      " 27  Walc        649 non-null    int64 \n",
      " 28  health      649 non-null    int64 \n",
      " 29  absences    649 non-null    int64 \n",
      " 30  G1          649 non-null    int64 \n",
      " 31  G2          649 non-null    int64 \n",
      " 32  G3          649 non-null    int64 \n",
      "dtypes: int64(16), object(17)\n",
      "memory usage: 167.4+ KB\n",
      "None \n",
      "\n",
      "Unique Values : \n",
      " school         2\n",
      "sex            2\n",
      "age            8\n",
      "address        2\n",
      "famsize        2\n",
      "Pstatus        2\n",
      "Medu           5\n",
      "Fedu           5\n",
      "Mjob           5\n",
      "Fjob           5\n",
      "reason         4\n",
      "guardian       3\n",
      "traveltime     4\n",
      "studytime      4\n",
      "failures       4\n",
      "schoolsup      2\n",
      "famsup         2\n",
      "paid           2\n",
      "activities     2\n",
      "nursery        2\n",
      "higher         2\n",
      "internet       2\n",
      "romantic       2\n",
      "famrel         5\n",
      "freetime       5\n",
      "goout          5\n",
      "Dalc           5\n",
      "Walc           5\n",
      "health         5\n",
      "absences      24\n",
      "G1            17\n",
      "G2            16\n",
      "G3            17\n",
      "dtype: int64 \n",
      "\n"
     ]
    }
   ],
   "source": [
    "\n",
    "print('Rows and Columns :', df.shape,'\\n' ) \n",
    "\n",
    "print('INFO:')\n",
    "print(df.info(), '\\n')\n",
    "\n",
    "print('Unique Values :','\\n', df.nunique(), '\\n')"
   ]
  },
  {
   "cell_type": "code",
   "execution_count": 132,
   "metadata": {},
   "outputs": [],
   "source": [
    "\n",
    "df.loc[df['school']=='GP', 'school'] = 1\n",
    "df.loc[df['school']=='MS', 'school'] = 0\n",
    "\n",
    "df.loc[df['sex']=='F', 'sex'] = 1\n",
    "df.loc[df['sex']=='M', 'sex'] = 0\n",
    "\n",
    "df.loc[df['address']=='R', 'address'] = 1\n",
    "df.loc[df['address']=='U', 'address'] = 0\n",
    "\n",
    "df.loc[df['famsize']=='GT3', 'famsize'] = 1\n",
    "df.loc[df['famsize']=='LE3', 'famsize'] = 0\n",
    "\n",
    "df.loc[df['Pstatus']=='T', 'Pstatus'] = 1\n",
    "df.loc[df['Pstatus']=='A', 'Pstatus'] = 0\n",
    "\n",
    "df.loc[df['schoolsup']=='yes', 'schoolsup'] = 1\n",
    "df.loc[df['schoolsup']=='no', 'schoolsup'] = 0\n",
    "\n",
    "df.loc[df['famsup']=='yes', 'famsup'] = 1\n",
    "df.loc[df['famsup']=='no', 'famsup'] = 0\n",
    "\n",
    "df.loc[df['paid']=='yes', 'paid'] = 1\n",
    "df.loc[df['paid']=='no', 'paid'] = 0\n",
    "\n",
    "df.loc[df['activities']=='yes', 'activities'] = 1\n",
    "df.loc[df['activities']=='no', 'activities'] = 0\n",
    "\n",
    "df.loc[df['nursery']=='yes', 'nursery'] = 1\n",
    "df.loc[df['nursery']=='no', 'nursery'] = 0\n",
    "\n",
    "df.loc[df['higher']=='yes', 'higher'] = 1\n",
    "df.loc[df['higher']=='no', 'higher'] = 0\n",
    "\n",
    "df.loc[df['internet']=='yes', 'internet'] = 1\n",
    "df.loc[df['internet']=='no', 'internet'] = 0\n",
    "\n",
    "df.loc[df['romantic']=='yes', 'romantic'] = 1\n",
    "df.loc[df['romantic']=='no', 'romantic'] = 0"
   ]
  },
  {
   "cell_type": "code",
   "execution_count": 133,
   "metadata": {},
   "outputs": [],
   "source": [
    "conditions=[df['Mjob'] == 'at_home',\n",
    "          df['Mjob'] == 'services',\n",
    "          df['Mjob'] == 'teacher',\n",
    "          df['Mjob'] == 'health',\n",
    "           df['Mjob']== 'other']\n",
    "choices = [1,2,3,4,5]\n",
    "df['Mjob'] = np.select(conditions, choices)\n",
    "\n",
    "conditions=[df['Fjob'] == 'at_home',\n",
    "          df['Fjob'] == 'services',\n",
    "          df['Fjob'] == 'teacher',\n",
    "          df['Fjob'] == 'health',\n",
    "           df['Fjob']== 'other']\n",
    "choices = [1,2,3,4,5]\n",
    "df['Fjob'] = np.select(conditions, choices)\n",
    "\n",
    "conditions=[df['reason'] == 'home',\n",
    "          df['reason'] == 'reputation',\n",
    "          df['reason'] == 'course',\n",
    "           df['reason']== 'other']\n",
    "choices = [1,2,3,4]\n",
    "df['reason'] = np.select(conditions, choices)\n",
    "\n",
    "conditions=[df['guardian'] == 'father',\n",
    "          df['guardian'] == 'mother',\n",
    "          df['guardian'] == 'other']\n",
    "choices = [1,2,3]\n",
    "df['guardian'] = np.select(conditions, choices)"
   ]
  },
  {
   "cell_type": "code",
   "execution_count": 134,
   "metadata": {},
   "outputs": [
    {
     "data": {
      "text/plain": [
       "school        object\n",
       "sex           object\n",
       "age            int64\n",
       "address       object\n",
       "famsize       object\n",
       "Pstatus       object\n",
       "Medu           int64\n",
       "Fedu           int64\n",
       "Mjob           int32\n",
       "Fjob           int32\n",
       "reason         int32\n",
       "guardian       int32\n",
       "traveltime     int64\n",
       "studytime      int64\n",
       "failures       int64\n",
       "schoolsup     object\n",
       "famsup        object\n",
       "paid          object\n",
       "activities    object\n",
       "nursery       object\n",
       "higher        object\n",
       "internet      object\n",
       "romantic      object\n",
       "famrel         int64\n",
       "freetime       int64\n",
       "goout          int64\n",
       "Dalc           int64\n",
       "Walc           int64\n",
       "health         int64\n",
       "absences       int64\n",
       "G1             int64\n",
       "G2             int64\n",
       "G3             int64\n",
       "dtype: object"
      ]
     },
     "execution_count": 134,
     "metadata": {},
     "output_type": "execute_result"
    }
   ],
   "source": [
    "df.dtypes"
   ]
  },
  {
   "cell_type": "code",
   "execution_count": 135,
   "metadata": {},
   "outputs": [
    {
     "data": {
      "text/plain": [
       "(649, 33)"
      ]
     },
     "execution_count": 135,
     "metadata": {},
     "output_type": "execute_result"
    }
   ],
   "source": [
    "df.shape"
   ]
  },
  {
   "cell_type": "code",
   "execution_count": 136,
   "metadata": {},
   "outputs": [
    {
     "data": {
      "text/plain": [
       "2     241\n",
       "3     116\n",
       "4      99\n",
       "5      73\n",
       "6      50\n",
       "7      32\n",
       "8      17\n",
       "10     15\n",
       "9       6\n",
       "Name: week_alc, dtype: int64"
      ]
     },
     "execution_count": 136,
     "metadata": {},
     "output_type": "execute_result"
    }
   ],
   "source": [
    "df['week_alc']= df['Dalc']+df['Walc']\n",
    "\n",
    "df['week_alc'].value_counts()"
   ]
  },
  {
   "cell_type": "code",
   "execution_count": 137,
   "metadata": {},
   "outputs": [
    {
     "name": "stdout",
     "output_type": "stream",
     "text": [
      "0    529\n",
      "1    120\n",
      "Name: alc, dtype: int64\n",
      "0    0.8151\n",
      "1    0.1849\n",
      "Name: alc, dtype: float64\n"
     ]
    },
    {
     "data": {
      "text/plain": [
       "Text(0.5, 1.0, 'Distribution of Heavy Drinkers VS Light drinkers')"
      ]
     },
     "execution_count": 137,
     "metadata": {},
     "output_type": "execute_result"
    },
    {
     "data": {
      "image/png": "[encoded data removed]",
      "text/plain": [
       "<Figure size 500x500 with 1 Axes>"
      ]
     },
     "metadata": {},
     "output_type": "display_data"
    }
   ],
   "source": [
    "df['alc'] = [0 if x <= 5 else 1 for x in df['week_alc']]\n",
    "        \n",
    "print(df['alc'].value_counts())\n",
    "print(df['alc'].value_counts(normalize = True))\n",
    "\n",
    "sns.catplot(x=\"alc\", kind=\"count\", palette=\"ch:.25\", data=df)\n",
    "plt.title('Distribution of Heavy Drinkers VS Light drinkers')"
   ]
  },
  {
   "cell_type": "code",
   "execution_count": 138,
   "metadata": {},
   "outputs": [
    {
     "data": {
      "text/plain": [
       "school        False\n",
       "sex           False\n",
       "age           False\n",
       "address       False\n",
       "famsize       False\n",
       "Pstatus       False\n",
       "Medu          False\n",
       "Fedu          False\n",
       "Mjob          False\n",
       "Fjob          False\n",
       "reason        False\n",
       "guardian      False\n",
       "traveltime    False\n",
       "studytime     False\n",
       "failures      False\n",
       "schoolsup     False\n",
       "famsup        False\n",
       "paid          False\n",
       "activities    False\n",
       "nursery       False\n",
       "higher        False\n",
       "internet      False\n",
       "romantic      False\n",
       "famrel        False\n",
       "freetime      False\n",
       "goout         False\n",
       "Dalc          False\n",
       "Walc          False\n",
       "health        False\n",
       "absences      False\n",
       "G1            False\n",
       "G2            False\n",
       "G3            False\n",
       "week_alc      False\n",
       "alc           False\n",
       "dtype: bool"
      ]
     },
     "execution_count": 138,
     "metadata": {},
     "output_type": "execute_result"
    }
   ],
   "source": [
    "# checking for Nan values\n",
    "df.isna().any()"
   ]
  },
  {
   "cell_type": "markdown",
   "metadata": {},
   "source": [
    "## Exploratory Data Analysis === Check here for [EDA]('EDA.ipynb')"
   ]
  },
  {
   "cell_type": "markdown",
   "metadata": {},
   "source": [
    "# Feature Engineering"
   ]
  },
  {
   "cell_type": "markdown",
   "metadata": {},
   "source": [
    "Feature quantifying family stability "
   ]
  },
  {
   "cell_type": "code",
   "execution_count": 139,
   "metadata": {},
   "outputs": [],
   "source": [
    "df['stability'] = df['famrel'] * df['famsize']\n",
    "df.drop(columns = ['famrel','famsize'], axis = 1, inplace = True)"
   ]
  },
  {
   "cell_type": "code",
   "execution_count": 140,
   "metadata": {},
   "outputs": [
    {
     "name": "stdout",
     "output_type": "stream",
     "text": [
      "Descriptive Statistics : \n",
      " count     649\n",
      "unique      6\n",
      "top         4\n",
      "freq      222\n",
      "Name: stability, dtype: int64\n",
      "Correlation with target var 'alc consumption' : \n",
      " -0.0726995336883851\n",
      "percentage of data distrib : \n",
      " 4    0.342065\n",
      "0    0.295840\n",
      "5    0.192604\n",
      "3    0.118644\n",
      "2    0.027735\n",
      "1    0.023112\n",
      "Name: stability, dtype: float64\n"
     ]
    },
    {
     "data": {
      "text/plain": [
       "<Axes: xlabel='stability', ylabel='alc'>"
      ]
     },
     "execution_count": 140,
     "metadata": {},
     "output_type": "execute_result"
    },
    {
     "data": {
      "image/png": "[encoded data removed]",
      "text/plain": [
       "<Figure size 1000x600 with 2 Axes>"
      ]
     },
     "metadata": {},
     "output_type": "display_data"
    }
   ],
   "source": [
    "print(\"Descriptive Statistics :\", '\\n', df['stability'].describe())\n",
    "df['stability']=df['stability'].apply(int)\n",
    "print(\"Correlation with target var 'alc consumption' :\", '\\n', df['stability'].corr(df['alc']))\n",
    "print(\"percentage of data distrib :\", '\\n', df.stability.value_counts(normalize=True))\n",
    "\n",
    "fig, ax = plt.subplots(1, 2, figsize= (10,6))\n",
    "sns.despine(right=True)\n",
    "sns.countplot(x=\"stability\", data=df,  ax = ax[0])\n",
    "sns.barplot(x=\"stability\", y = 'alc', data=df,  ax = ax[1])"
   ]
  },
  {
   "cell_type": "markdown",
   "metadata": {},
   "source": [
    "feature quantifying academic support network"
   ]
  },
  {
   "cell_type": "code",
   "execution_count": 141,
   "metadata": {},
   "outputs": [],
   "source": [
    "df['academic_support'] = df.famsup + df.schoolsup  + df.higher \n",
    "df.drop(columns = ['famsup','schoolsup','higher'], axis = 1, inplace = True)"
   ]
  },
  {
   "cell_type": "code",
   "execution_count": 142,
   "metadata": {},
   "outputs": [
    {
     "name": "stdout",
     "output_type": "stream",
     "text": [
      "Descriptive Statistics : \n",
      " count     649\n",
      "unique      4\n",
      "top         2\n",
      "freq      338\n",
      "Name: academic_support, dtype: int64\n",
      "Correlation with target var 'alc consumption' : \n",
      " -0.12700967935895713\n",
      "percentage of data distrib : \n",
      " 2    0.520801\n",
      "1    0.352851\n",
      "3    0.072419\n",
      "0    0.053929\n",
      "Name: academic_support, dtype: float64\n"
     ]
    },
    {
     "data": {
      "text/plain": [
       "<Axes: xlabel='academic_support', ylabel='alc'>"
      ]
     },
     "execution_count": 142,
     "metadata": {},
     "output_type": "execute_result"
    },
    {
     "data": {
      "image/png": "[encoded data removed]",
      "text/plain": [
       "<Figure size 1000x600 with 2 Axes>"
      ]
     },
     "metadata": {},
     "output_type": "display_data"
    }
   ],
   "source": [
    "print(\"Descriptive Statistics :\", '\\n', df['academic_support'].describe())\n",
    "df['academic_support']=df['academic_support'].apply(int)\n",
    "print(\"Correlation with target var 'alc consumption' :\", '\\n', df['academic_support'].corr(df['alc']))\n",
    "print(\"percentage of data distrib :\", '\\n', df.academic_support.value_counts(normalize=True))\n",
    "\n",
    "fig, ax = plt.subplots(1, 2, figsize= (10,6))\n",
    "sns.despine(right=True)\n",
    "sns.countplot(x=\"academic_support\", data=df,  ax = ax[0])\n",
    "sns.barplot(x=\"academic_support\",  y ='alc', data=df,  ax = ax[1])"
   ]
  },
  {
   "cell_type": "code",
   "execution_count": 143,
   "metadata": {},
   "outputs": [],
   "source": [
    "df['idle'] = df.goout*df.freetime\n",
    "df.drop(columns = ['goout','freetime'], axis = 1, inplace = True)"
   ]
  },
  {
   "cell_type": "code",
   "execution_count": 144,
   "metadata": {},
   "outputs": [
    {
     "name": "stdout",
     "output_type": "stream",
     "text": [
      "Descriptive Statistics : \n",
      " count    649.000000\n",
      "mean      10.556240\n",
      "std        6.037971\n",
      "min        1.000000\n",
      "25%        6.000000\n",
      "50%        9.000000\n",
      "75%       15.000000\n",
      "max       25.000000\n",
      "Name: idle, dtype: float64\n",
      "Correlation with target variable 'alc consumption' : \n",
      " 0.2586993675902269\n",
      "percentage of data distrib : \n",
      " 9     0.158706\n",
      "12    0.149461\n",
      "6     0.140216\n",
      "16    0.097072\n",
      "20    0.075501\n",
      "4     0.069337\n",
      "8     0.057011\n",
      "25    0.053929\n",
      "2     0.050847\n",
      "3     0.047766\n",
      "15    0.047766\n",
      "10    0.032357\n",
      "5     0.010786\n",
      "1     0.009245\n",
      "Name: idle, dtype: float64\n"
     ]
    },
    {
     "data": {
      "text/plain": [
       "<Axes: xlabel='idle', ylabel='alc'>"
      ]
     },
     "execution_count": 144,
     "metadata": {},
     "output_type": "execute_result"
    },
    {
     "data": {
      "image/png": "[encoded data removed]",
      "text/plain": [
       "<Figure size 1000x600 with 2 Axes>"
      ]
     },
     "metadata": {},
     "output_type": "display_data"
    }
   ],
   "source": [
    "print(\"Descriptive Statistics :\", '\\n', df['idle'].describe())\n",
    "\n",
    "print(\"Correlation with target variable 'alc consumption' :\", '\\n', df['idle'].corr(df['alc']))\n",
    "print(\"percentage of data distrib :\", '\\n', df.idle.value_counts(normalize=True))\n",
    "\n",
    "fig, ax = plt.subplots(1, 2, figsize= (10,6))\n",
    "sns.despine(right=True)\n",
    "sns.countplot(x=\"idle\", data=df,  ax = ax[0])\n",
    "ax[0].set_title('abc')\n",
    "sns.barplot(x=\"idle\", y = 'alc', data=df,  ax = ax[1])"
   ]
  },
  {
   "cell_type": "markdown",
   "metadata": {},
   "source": [
    "Average Grade"
   ]
  },
  {
   "cell_type": "code",
   "execution_count": 145,
   "metadata": {},
   "outputs": [],
   "source": [
    "df['grade_avg'] = round((df.G1 + df.G2 + df.G3)/3, 2)\n",
    "df.drop(columns = ['G1','G2','G3'], axis = 1, inplace = True)"
   ]
  },
  {
   "cell_type": "code",
   "execution_count": 146,
   "metadata": {},
   "outputs": [
    {
     "name": "stdout",
     "output_type": "stream",
     "text": [
      "Descriptive Statistics : \n",
      " count    649.000000\n",
      "mean      11.625116\n",
      "std        2.833308\n",
      "min        1.330000\n",
      "25%       10.000000\n",
      "50%       11.670000\n",
      "75%       13.330000\n",
      "max       18.670000\n",
      "Name: grade_avg, dtype: float64\n",
      "Correlation with target alc consumption : \n",
      " -0.2107416959520687\n"
     ]
    },
    {
     "name": "stderr",
     "output_type": "stream",
     "text": [
      "C:\\Users\\bushra\\AppData\\Local\\Temp\\ipykernel_14704\\2929289680.py:5: UserWarning: \n",
      "\n",
      "`distplot` is a deprecated function and will be removed in seaborn v0.14.0.\n",
      "\n",
      "Please adapt your code to use either `displot` (a figure-level function with\n",
      "similar flexibility) or `histplot` (an axes-level function for histograms).\n",
      "\n",
      "For a guide to updating your code to use the new functions, please see\n",
      "https://gist.github.com/mwaskom/de44147ed2974457ad6372750bbe5751\n",
      "\n",
      "  sns.distplot(a=df[\"grade_avg\"],bins=10, kde=True, hist=True)\n"
     ]
    },
    {
     "data": {
      "text/plain": [
       "<Axes: xlabel='grade_avg', ylabel='Density'>"
      ]
     },
     "execution_count": 146,
     "metadata": {},
     "output_type": "execute_result"
    },
    {
     "data": {
      "image/png": "[encoded data removed]",
      "text/plain": [
       "<Figure size 640x480 with 1 Axes>"
      ]
     },
     "metadata": {},
     "output_type": "display_data"
    }
   ],
   "source": [
    "print(\"Descriptive Statistics :\", '\\n', df['grade_avg'].describe())\n",
    "print(\"Correlation with target alc consumption :\", '\\n', df['grade_avg'].corr(df['alc']))\n",
    "\n",
    "sns.despine(right=True)\n",
    "sns.distplot(a=df[\"grade_avg\"],bins=10, kde=True, hist=True)\n",
    "\n",
    "# plt.figure(figsize=(5,8))\n",
    "# df.boxplot(column='grade_avg', by = 'alc')"
   ]
  },
  {
   "cell_type": "code",
   "execution_count": 147,
   "metadata": {},
   "outputs": [],
   "source": [
    "heavy = df.loc[df['alc'] == 1]\n",
    "light = df.loc[df['alc'] == 0]\n",
    "grades_heavy = heavy.grade_avg\n",
    "grades_light =light.grade_avg\n",
    "#print([grades_heavy,grades_light])"
   ]
  },
  {
   "cell_type": "code",
   "execution_count": 148,
   "metadata": {},
   "outputs": [
    {
     "data": {
      "image/png": "[encoded data removed]",
      "text/plain": [
       "<Figure size 640x480 with 1 Axes>"
      ]
     },
     "metadata": {},
     "output_type": "display_data"
    }
   ],
   "source": [
    "plt.hist([grades_heavy,grades_light], bins = 10)\n",
    "plt.xlabel('grade point average')\n",
    "plt.ylabel('frequency')\n",
    "plt.title('heavy drinkers & light drinkers GPA distributions')\n",
    "plt.axvline(x = 10.5, color = 'k')\n",
    "plt.axvline(x = 12.33, color = 'k')\n",
    "#plt.savefig('images/gpahist.png')\n",
    "plt.show();"
   ]
  },
  {
   "cell_type": "code",
   "execution_count": 149,
   "metadata": {},
   "outputs": [],
   "source": [
    "df['delinquency'] = (df['failures']) * df['absences']"
   ]
  },
  {
   "cell_type": "code",
   "execution_count": 150,
   "metadata": {},
   "outputs": [
    {
     "name": "stdout",
     "output_type": "stream",
     "text": [
      "Descriptive Statistics : \n",
      " count    649.000000\n",
      "mean       1.149461\n",
      "std        4.515833\n",
      "min        0.000000\n",
      "25%        0.000000\n",
      "50%        0.000000\n",
      "75%        0.000000\n",
      "max       42.000000\n",
      "Name: delinquency, dtype: float64\n",
      "Correlation with target variable 'alc consumption' : \n",
      " 0.1302357029824932\n",
      "percentage of data distrib : \n",
      " 0     0.890601\n",
      "4     0.020031\n",
      "12    0.012327\n",
      "2     0.012327\n",
      "8     0.012327\n",
      "6     0.012327\n",
      "14    0.007704\n",
      "30    0.004622\n",
      "18    0.004622\n",
      "16    0.004622\n",
      "42    0.003082\n",
      "5     0.003082\n",
      "3     0.003082\n",
      "9     0.003082\n",
      "27    0.001541\n",
      "26    0.001541\n",
      "36    0.001541\n",
      "1     0.001541\n",
      "Name: delinquency, dtype: float64\n"
     ]
    },
    {
     "name": "stderr",
     "output_type": "stream",
     "text": [
      "C:\\Users\\bushra\\AppData\\Local\\Temp\\ipykernel_14704\\1657001082.py:6: UserWarning: \n",
      "\n",
      "`distplot` is a deprecated function and will be removed in seaborn v0.14.0.\n",
      "\n",
      "Please adapt your code to use either `displot` (a figure-level function with\n",
      "similar flexibility) or `histplot` (an axes-level function for histograms).\n",
      "\n",
      "For a guide to updating your code to use the new functions, please see\n",
      "https://gist.github.com/mwaskom/de44147ed2974457ad6372750bbe5751\n",
      "\n",
      "  sns.distplot(a=df[\"delinquency\"],bins=10, kde = False ,hist=True)\n"
     ]
    },
    {
     "data": {
      "text/plain": [
       "<Axes: xlabel='delinquency'>"
      ]
     },
     "execution_count": 150,
     "metadata": {},
     "output_type": "execute_result"
    },
    {
     "data": {
      "image/png": "[encoded data removed]",
      "text/plain": [
       "<Figure size 640x480 with 1 Axes>"
      ]
     },
     "metadata": {},
     "output_type": "display_data"
    }
   ],
   "source": [
    "print(\"Descriptive Statistics :\", '\\n', df['delinquency'].describe())\n",
    "print(\"Correlation with target variable 'alc consumption' :\", '\\n', df['delinquency'].corr(df['alc']))\n",
    "print(\"percentage of data distrib :\", '\\n', df.delinquency.value_counts(normalize=True))\n",
    "\n",
    "sns.despine(right=True)\n",
    "sns.distplot(a=df[\"delinquency\"],bins=10, kde = False ,hist=True)"
   ]
  },
  {
   "cell_type": "code",
   "execution_count": 151,
   "metadata": {},
   "outputs": [
    {
     "name": "stdout",
     "output_type": "stream",
     "text": [
      "(649, 30)\n",
      "Index(['school', 'sex', 'age', 'address', 'Pstatus', 'Medu', 'Fedu', 'Mjob',\n",
      "       'Fjob', 'reason', 'guardian', 'traveltime', 'studytime', 'failures',\n",
      "       'paid', 'activities', 'nursery', 'internet', 'romantic', 'Dalc', 'Walc',\n",
      "       'health', 'absences', 'week_alc', 'alc', 'stability',\n",
      "       'academic_support', 'idle', 'grade_avg', 'delinquency'],\n",
      "      dtype='object')\n"
     ]
    }
   ],
   "source": [
    "print(df.shape)\n",
    "\n",
    "print(df.columns)"
   ]
  },
  {
   "cell_type": "code",
   "execution_count": 152,
   "metadata": {},
   "outputs": [],
   "source": [
    "dummy_feats = ['Medu', 'Fedu','Mjob', 'Fjob', 'reason', 'guardian', 'traveltime', 'studytime',\n",
    "       'failures','health']\n",
    "\n",
    "df.drop(columns = ['week_alc', 'Dalc', 'Walc'], axis = 1, inplace = True)"
   ]
  },
  {
   "cell_type": "code",
   "execution_count": 153,
   "metadata": {},
   "outputs": [],
   "source": [
    "dummy1 = pd.get_dummies(df['Medu'],drop_first= True, prefix='Medu')\n",
    "\n",
    "dummy2 = pd.get_dummies(df['Fedu'],drop_first= True, prefix='Fedu')\n",
    "dummy3 = pd.get_dummies(df['Mjob'],drop_first= True, prefix='Mjob')\n",
    "dummy4 = pd.get_dummies(df['Fjob'],drop_first= True, prefix='Fjob')\n",
    "dummy5 = pd.get_dummies(df['reason'],drop_first= True, prefix='reason')\n",
    "dummy6 = pd.get_dummies(df['guardian'],drop_first= True, prefix='guardian')\n",
    "dummy7 = pd.get_dummies(df['traveltime'],drop_first= True, prefix='traveltime')\n",
    "dummy8 = pd.get_dummies(df['studytime'],drop_first= True, prefix='studytime')\n",
    "dummy9 = pd.get_dummies(df['failures'],drop_first= True, prefix = 'failures')\n",
    "dummy10 = pd.get_dummies(df['health'],drop_first= True, prefix='health')"
   ]
  },
  {
   "cell_type": "code",
   "execution_count": 154,
   "metadata": {},
   "outputs": [],
   "source": [
    "df_list = [df, dummy1, dummy2, dummy3, dummy4, dummy5, dummy6, dummy7, \n",
    "           dummy8, dummy9, dummy10]\n",
    "df.drop(dummy_feats,axis=1,inplace=True)\n"
   ]
  },
  {
   "cell_type": "code",
   "execution_count": 155,
   "metadata": {},
   "outputs": [
    {
     "name": "stdout",
     "output_type": "stream",
     "text": [
      "(649, 17)\n",
      "(649, 4)\n",
      "(649, 4)\n",
      "(649, 4)\n",
      "(649, 4)\n",
      "(649, 3)\n",
      "(649, 2)\n",
      "(649, 3)\n",
      "(649, 3)\n",
      "(649, 3)\n",
      "(649, 4)\n"
     ]
    }
   ],
   "source": [
    "for df in df_list:\n",
    "    print(df.shape)"
   ]
  },
  {
   "cell_type": "code",
   "execution_count": 156,
   "metadata": {},
   "outputs": [],
   "source": [
    "df = pd.concat(df_list, axis = 1)"
   ]
  },
  {
   "cell_type": "code",
   "execution_count": 157,
   "metadata": {},
   "outputs": [
    {
     "data": {
      "text/html": [
       "<div>\n",
       "<style scoped>\n",
       "    .dataframe tbody tr th:only-of-type {\n",
       "        vertical-align: middle;\n",
       "    }\n",
       "\n",
       "    .dataframe tbody tr th {\n",
       "        vertical-align: top;\n",
       "    }\n",
       "\n",
       "    .dataframe thead th {\n",
       "        text-align: right;\n",
       "    }\n",
       "</style>\n",
       "<table border=\"1\" class=\"dataframe\">\n",
       "  <thead>\n",
       "    <tr style=\"text-align: right;\">\n",
       "      <th></th>\n",
       "      <th>school</th>\n",
       "      <th>sex</th>\n",
       "      <th>age</th>\n",
       "      <th>address</th>\n",
       "      <th>Pstatus</th>\n",
       "      <th>paid</th>\n",
       "      <th>activities</th>\n",
       "      <th>nursery</th>\n",
       "      <th>internet</th>\n",
       "      <th>romantic</th>\n",
       "      <th>...</th>\n",
       "      <th>studytime_2</th>\n",
       "      <th>studytime_3</th>\n",
       "      <th>studytime_4</th>\n",
       "      <th>failures_1</th>\n",
       "      <th>failures_2</th>\n",
       "      <th>failures_3</th>\n",
       "      <th>health_2</th>\n",
       "      <th>health_3</th>\n",
       "      <th>health_4</th>\n",
       "      <th>health_5</th>\n",
       "    </tr>\n",
       "  </thead>\n",
       "  <tbody>\n",
       "    <tr>\n",
       "      <th>0</th>\n",
       "      <td>1</td>\n",
       "      <td>1</td>\n",
       "      <td>18</td>\n",
       "      <td>0</td>\n",
       "      <td>0</td>\n",
       "      <td>0</td>\n",
       "      <td>0</td>\n",
       "      <td>1</td>\n",
       "      <td>0</td>\n",
       "      <td>0</td>\n",
       "      <td>...</td>\n",
       "      <td>1</td>\n",
       "      <td>0</td>\n",
       "      <td>0</td>\n",
       "      <td>0</td>\n",
       "      <td>0</td>\n",
       "      <td>0</td>\n",
       "      <td>0</td>\n",
       "      <td>1</td>\n",
       "      <td>0</td>\n",
       "      <td>0</td>\n",
       "    </tr>\n",
       "    <tr>\n",
       "      <th>1</th>\n",
       "      <td>1</td>\n",
       "      <td>1</td>\n",
       "      <td>17</td>\n",
       "      <td>0</td>\n",
       "      <td>1</td>\n",
       "      <td>0</td>\n",
       "      <td>0</td>\n",
       "      <td>0</td>\n",
       "      <td>1</td>\n",
       "      <td>0</td>\n",
       "      <td>...</td>\n",
       "      <td>1</td>\n",
       "      <td>0</td>\n",
       "      <td>0</td>\n",
       "      <td>0</td>\n",
       "      <td>0</td>\n",
       "      <td>0</td>\n",
       "      <td>0</td>\n",
       "      <td>1</td>\n",
       "      <td>0</td>\n",
       "      <td>0</td>\n",
       "    </tr>\n",
       "    <tr>\n",
       "      <th>2</th>\n",
       "      <td>1</td>\n",
       "      <td>1</td>\n",
       "      <td>15</td>\n",
       "      <td>0</td>\n",
       "      <td>1</td>\n",
       "      <td>0</td>\n",
       "      <td>0</td>\n",
       "      <td>1</td>\n",
       "      <td>1</td>\n",
       "      <td>0</td>\n",
       "      <td>...</td>\n",
       "      <td>1</td>\n",
       "      <td>0</td>\n",
       "      <td>0</td>\n",
       "      <td>0</td>\n",
       "      <td>0</td>\n",
       "      <td>0</td>\n",
       "      <td>0</td>\n",
       "      <td>1</td>\n",
       "      <td>0</td>\n",
       "      <td>0</td>\n",
       "    </tr>\n",
       "    <tr>\n",
       "      <th>3</th>\n",
       "      <td>1</td>\n",
       "      <td>1</td>\n",
       "      <td>15</td>\n",
       "      <td>0</td>\n",
       "      <td>1</td>\n",
       "      <td>0</td>\n",
       "      <td>1</td>\n",
       "      <td>1</td>\n",
       "      <td>1</td>\n",
       "      <td>1</td>\n",
       "      <td>...</td>\n",
       "      <td>0</td>\n",
       "      <td>1</td>\n",
       "      <td>0</td>\n",
       "      <td>0</td>\n",
       "      <td>0</td>\n",
       "      <td>0</td>\n",
       "      <td>0</td>\n",
       "      <td>0</td>\n",
       "      <td>0</td>\n",
       "      <td>1</td>\n",
       "    </tr>\n",
       "    <tr>\n",
       "      <th>4</th>\n",
       "      <td>1</td>\n",
       "      <td>1</td>\n",
       "      <td>16</td>\n",
       "      <td>0</td>\n",
       "      <td>1</td>\n",
       "      <td>0</td>\n",
       "      <td>0</td>\n",
       "      <td>1</td>\n",
       "      <td>0</td>\n",
       "      <td>0</td>\n",
       "      <td>...</td>\n",
       "      <td>1</td>\n",
       "      <td>0</td>\n",
       "      <td>0</td>\n",
       "      <td>0</td>\n",
       "      <td>0</td>\n",
       "      <td>0</td>\n",
       "      <td>0</td>\n",
       "      <td>0</td>\n",
       "      <td>0</td>\n",
       "      <td>1</td>\n",
       "    </tr>\n",
       "    <tr>\n",
       "      <th>...</th>\n",
       "      <td>...</td>\n",
       "      <td>...</td>\n",
       "      <td>...</td>\n",
       "      <td>...</td>\n",
       "      <td>...</td>\n",
       "      <td>...</td>\n",
       "      <td>...</td>\n",
       "      <td>...</td>\n",
       "      <td>...</td>\n",
       "      <td>...</td>\n",
       "      <td>...</td>\n",
       "      <td>...</td>\n",
       "      <td>...</td>\n",
       "      <td>...</td>\n",
       "      <td>...</td>\n",
       "      <td>...</td>\n",
       "      <td>...</td>\n",
       "      <td>...</td>\n",
       "      <td>...</td>\n",
       "      <td>...</td>\n",
       "      <td>...</td>\n",
       "    </tr>\n",
       "    <tr>\n",
       "      <th>644</th>\n",
       "      <td>0</td>\n",
       "      <td>1</td>\n",
       "      <td>19</td>\n",
       "      <td>1</td>\n",
       "      <td>1</td>\n",
       "      <td>0</td>\n",
       "      <td>1</td>\n",
       "      <td>0</td>\n",
       "      <td>1</td>\n",
       "      <td>0</td>\n",
       "      <td>...</td>\n",
       "      <td>0</td>\n",
       "      <td>1</td>\n",
       "      <td>0</td>\n",
       "      <td>1</td>\n",
       "      <td>0</td>\n",
       "      <td>0</td>\n",
       "      <td>0</td>\n",
       "      <td>0</td>\n",
       "      <td>0</td>\n",
       "      <td>1</td>\n",
       "    </tr>\n",
       "    <tr>\n",
       "      <th>645</th>\n",
       "      <td>0</td>\n",
       "      <td>1</td>\n",
       "      <td>18</td>\n",
       "      <td>0</td>\n",
       "      <td>1</td>\n",
       "      <td>0</td>\n",
       "      <td>0</td>\n",
       "      <td>1</td>\n",
       "      <td>1</td>\n",
       "      <td>0</td>\n",
       "      <td>...</td>\n",
       "      <td>1</td>\n",
       "      <td>0</td>\n",
       "      <td>0</td>\n",
       "      <td>0</td>\n",
       "      <td>0</td>\n",
       "      <td>0</td>\n",
       "      <td>0</td>\n",
       "      <td>0</td>\n",
       "      <td>0</td>\n",
       "      <td>0</td>\n",
       "    </tr>\n",
       "    <tr>\n",
       "      <th>646</th>\n",
       "      <td>0</td>\n",
       "      <td>1</td>\n",
       "      <td>18</td>\n",
       "      <td>0</td>\n",
       "      <td>1</td>\n",
       "      <td>0</td>\n",
       "      <td>1</td>\n",
       "      <td>1</td>\n",
       "      <td>0</td>\n",
       "      <td>0</td>\n",
       "      <td>...</td>\n",
       "      <td>1</td>\n",
       "      <td>0</td>\n",
       "      <td>0</td>\n",
       "      <td>0</td>\n",
       "      <td>0</td>\n",
       "      <td>0</td>\n",
       "      <td>0</td>\n",
       "      <td>0</td>\n",
       "      <td>0</td>\n",
       "      <td>1</td>\n",
       "    </tr>\n",
       "    <tr>\n",
       "      <th>647</th>\n",
       "      <td>0</td>\n",
       "      <td>0</td>\n",
       "      <td>17</td>\n",
       "      <td>0</td>\n",
       "      <td>1</td>\n",
       "      <td>0</td>\n",
       "      <td>0</td>\n",
       "      <td>0</td>\n",
       "      <td>1</td>\n",
       "      <td>0</td>\n",
       "      <td>...</td>\n",
       "      <td>0</td>\n",
       "      <td>0</td>\n",
       "      <td>0</td>\n",
       "      <td>0</td>\n",
       "      <td>0</td>\n",
       "      <td>0</td>\n",
       "      <td>1</td>\n",
       "      <td>0</td>\n",
       "      <td>0</td>\n",
       "      <td>0</td>\n",
       "    </tr>\n",
       "    <tr>\n",
       "      <th>648</th>\n",
       "      <td>0</td>\n",
       "      <td>0</td>\n",
       "      <td>18</td>\n",
       "      <td>1</td>\n",
       "      <td>1</td>\n",
       "      <td>0</td>\n",
       "      <td>0</td>\n",
       "      <td>0</td>\n",
       "      <td>1</td>\n",
       "      <td>0</td>\n",
       "      <td>...</td>\n",
       "      <td>0</td>\n",
       "      <td>0</td>\n",
       "      <td>0</td>\n",
       "      <td>0</td>\n",
       "      <td>0</td>\n",
       "      <td>0</td>\n",
       "      <td>0</td>\n",
       "      <td>0</td>\n",
       "      <td>0</td>\n",
       "      <td>1</td>\n",
       "    </tr>\n",
       "  </tbody>\n",
       "</table>\n",
       "<p>649 rows × 51 columns</p>\n",
       "</div>"
      ],
      "text/plain": [
       "    school sex  age address Pstatus paid activities nursery internet romantic  \\\n",
       "0        1   1   18       0       0    0          0       1        0        0   \n",
       "1        1   1   17       0       1    0          0       0        1        0   \n",
       "2        1   1   15       0       1    0          0       1        1        0   \n",
       "3        1   1   15       0       1    0          1       1        1        1   \n",
       "4        1   1   16       0       1    0          0       1        0        0   \n",
       "..     ...  ..  ...     ...     ...  ...        ...     ...      ...      ...   \n",
       "644      0   1   19       1       1    0          1       0        1        0   \n",
       "645      0   1   18       0       1    0          0       1        1        0   \n",
       "646      0   1   18       0       1    0          1       1        0        0   \n",
       "647      0   0   17       0       1    0          0       0        1        0   \n",
       "648      0   0   18       1       1    0          0       0        1        0   \n",
       "\n",
       "     ...  studytime_2  studytime_3  studytime_4  failures_1  failures_2  \\\n",
       "0    ...            1            0            0           0           0   \n",
       "1    ...            1            0            0           0           0   \n",
       "2    ...            1            0            0           0           0   \n",
       "3    ...            0            1            0           0           0   \n",
       "4    ...            1            0            0           0           0   \n",
       "..   ...          ...          ...          ...         ...         ...   \n",
       "644  ...            0            1            0           1           0   \n",
       "645  ...            1            0            0           0           0   \n",
       "646  ...            1            0            0           0           0   \n",
       "647  ...            0            0            0           0           0   \n",
       "648  ...            0            0            0           0           0   \n",
       "\n",
       "     failures_3  health_2  health_3  health_4  health_5  \n",
       "0             0         0         1         0         0  \n",
       "1             0         0         1         0         0  \n",
       "2             0         0         1         0         0  \n",
       "3             0         0         0         0         1  \n",
       "4             0         0         0         0         1  \n",
       "..          ...       ...       ...       ...       ...  \n",
       "644           0         0         0         0         1  \n",
       "645           0         0         0         0         0  \n",
       "646           0         0         0         0         1  \n",
       "647           0         1         0         0         0  \n",
       "648           0         0         0         0         1  \n",
       "\n",
       "[649 rows x 51 columns]"
      ]
     },
     "execution_count": 157,
     "metadata": {},
     "output_type": "execute_result"
    }
   ],
   "source": [
    "df"
   ]
  },
  {
   "cell_type": "code",
   "execution_count": 158,
   "metadata": {},
   "outputs": [
    {
     "data": {
      "text/plain": [
       "Index(['school', 'sex', 'age', 'address', 'Pstatus', 'paid', 'activities',\n",
       "       'nursery', 'internet', 'romantic', 'absences', 'alc', 'stability',\n",
       "       'academic_support', 'idle', 'grade_avg', 'delinquency', 'Medu_1',\n",
       "       'Medu_2', 'Medu_3', 'Medu_4', 'Fedu_1', 'Fedu_2', 'Fedu_3', 'Fedu_4',\n",
       "       'Mjob_2', 'Mjob_3', 'Mjob_4', 'Mjob_5', 'Fjob_2', 'Fjob_3', 'Fjob_4',\n",
       "       'Fjob_5', 'reason_2', 'reason_3', 'reason_4', 'guardian_2',\n",
       "       'guardian_3', 'traveltime_2', 'traveltime_3', 'traveltime_4',\n",
       "       'studytime_2', 'studytime_3', 'studytime_4', 'failures_1', 'failures_2',\n",
       "       'failures_3', 'health_2', 'health_3', 'health_4', 'health_5'],\n",
       "      dtype='object')"
      ]
     },
     "execution_count": 158,
     "metadata": {},
     "output_type": "execute_result"
    }
   ],
   "source": [
    "df.columns"
   ]
  },
  {
   "cell_type": "markdown",
   "metadata": {},
   "source": [
    "**Scaling**"
   ]
  },
  {
   "cell_type": "code",
   "execution_count": 159,
   "metadata": {},
   "outputs": [
    {
     "data": {
      "text/html": [
       "<style>#sk-container-id-2 {color: black;background-color: white;}#sk-container-id-2 pre{padding: 0;}#sk-container-id-2 div.sk-toggleable {background-color: white;}#sk-container-id-2 label.sk-toggleable__label {cursor: pointer;display: block;width: 100%;margin-bottom: 0;padding: 0.3em;box-sizing: border-box;text-align: center;}#sk-container-id-2 label.sk-toggleable__label-arrow:before {content: \"▸\";float: left;margin-right: 0.25em;color: #696969;}#sk-container-id-2 label.sk-toggleable__label-arrow:hover:before {color: black;}#sk-container-id-2 div.sk-estimator:hover label.sk-toggleable__label-arrow:before {color: black;}#sk-container-id-2 div.sk-toggleable__content {max-height: 0;max-width: 0;overflow: hidden;text-align: left;background-color: #f0f8ff;}#sk-container-id-2 div.sk-toggleable__content pre {margin: 0.2em;color: black;border-radius: 0.25em;background-color: #f0f8ff;}#sk-container-id-2 input.sk-toggleable__control:checked~div.sk-toggleable__content {max-height: 200px;max-width: 100%;overflow: auto;}#sk-container-id-2 input.sk-toggleable__control:checked~label.sk-toggleable__label-arrow:before {content: \"▾\";}#sk-container-id-2 div.sk-estimator input.sk-toggleable__control:checked~label.sk-toggleable__label {background-color: #d4ebff;}#sk-container-id-2 div.sk-label input.sk-toggleable__control:checked~label.sk-toggleable__label {background-color: #d4ebff;}#sk-container-id-2 input.sk-hidden--visually {border: 0;clip: rect(1px 1px 1px 1px);clip: rect(1px, 1px, 1px, 1px);height: 1px;margin: -1px;overflow: hidden;padding: 0;position: absolute;width: 1px;}#sk-container-id-2 div.sk-estimator {font-family: monospace;background-color: #f0f8ff;border: 1px dotted black;border-radius: 0.25em;box-sizing: border-box;margin-bottom: 0.5em;}#sk-container-id-2 div.sk-estimator:hover {background-color: #d4ebff;}#sk-container-id-2 div.sk-parallel-item::after {content: \"\";width: 100%;border-bottom: 1px solid gray;flex-grow: 1;}#sk-container-id-2 div.sk-label:hover label.sk-toggleable__label {background-color: #d4ebff;}#sk-container-id-2 div.sk-serial::before {content: \"\";position: absolute;border-left: 1px solid gray;box-sizing: border-box;top: 0;bottom: 0;left: 50%;z-index: 0;}#sk-container-id-2 div.sk-serial {display: flex;flex-direction: column;align-items: center;background-color: white;padding-right: 0.2em;padding-left: 0.2em;position: relative;}#sk-container-id-2 div.sk-item {position: relative;z-index: 1;}#sk-container-id-2 div.sk-parallel {display: flex;align-items: stretch;justify-content: center;background-color: white;position: relative;}#sk-container-id-2 div.sk-item::before, #sk-container-id-2 div.sk-parallel-item::before {content: \"\";position: absolute;border-left: 1px solid gray;box-sizing: border-box;top: 0;bottom: 0;left: 50%;z-index: -1;}#sk-container-id-2 div.sk-parallel-item {display: flex;flex-direction: column;z-index: 1;position: relative;background-color: white;}#sk-container-id-2 div.sk-parallel-item:first-child::after {align-self: flex-end;width: 50%;}#sk-container-id-2 div.sk-parallel-item:last-child::after {align-self: flex-start;width: 50%;}#sk-container-id-2 div.sk-parallel-item:only-child::after {width: 0;}#sk-container-id-2 div.sk-dashed-wrapped {border: 1px dashed gray;margin: 0 0.4em 0.5em 0.4em;box-sizing: border-box;padding-bottom: 0.4em;background-color: white;}#sk-container-id-2 div.sk-label label {font-family: monospace;font-weight: bold;display: inline-block;line-height: 1.2em;}#sk-container-id-2 div.sk-label-container {text-align: center;}#sk-container-id-2 div.sk-container {/* jupyter's `normalize.less` sets `[hidden] { display: none; }` but bootstrap.min.css set `[hidden] { display: none !important; }` so we also need the `!important` here to be able to override the default hidden behavior on the sphinx rendered scikit-learn.org. See: https://github.com/scikit-learn/scikit-learn/issues/21755 */display: inline-block !important;position: relative;}#sk-container-id-2 div.sk-text-repr-fallback {display: none;}</style><div id=\"sk-container-id-2\" class=\"sk-top-container\"><div class=\"sk-text-repr-fallback\"><pre>MinMaxScaler()</pre><b>In a Jupyter environment, please rerun this cell to show the HTML representation or trust the notebook. <br />On GitHub, the HTML representation is unable to render, please try loading this page with nbviewer.org.</b></div><div class=\"sk-container\" hidden><div class=\"sk-item\"><div class=\"sk-estimator sk-toggleable\"><input class=\"sk-toggleable__control sk-hidden--visually\" id=\"sk-estimator-id-2\" type=\"checkbox\" checked><label for=\"sk-estimator-id-2\" class=\"sk-toggleable__label sk-toggleable__label-arrow\">MinMaxScaler</label><div class=\"sk-toggleable__content\"><pre>MinMaxScaler()</pre></div></div></div></div></div>"
      ],
      "text/plain": [
       "MinMaxScaler()"
      ]
     },
     "execution_count": 159,
     "metadata": {},
     "output_type": "execute_result"
    }
   ],
   "source": [
    "scaler = MinMaxScaler()  \n",
    "scaler.fit(df)"
   ]
  },
  {
   "cell_type": "code",
   "execution_count": 162,
   "metadata": {},
   "outputs": [
    {
     "data": {
      "text/plain": [
       "(649, 51)"
      ]
     },
     "execution_count": 162,
     "metadata": {},
     "output_type": "execute_result"
    }
   ],
   "source": [
    "df.shape"
   ]
  },
  {
   "cell_type": "code",
   "execution_count": 161,
   "metadata": {},
   "outputs": [],
   "source": [
    "df.to_csv('preprocessing_file.csv',index=False)"
   ]
  },
  {
   "cell_type": "code",
   "execution_count": 163,
   "metadata": {},
   "outputs": [
    {
     "data": {
      "text/html": [
       "<div>\n",
       "<style scoped>\n",
       "    .dataframe tbody tr th:only-of-type {\n",
       "        vertical-align: middle;\n",
       "    }\n",
       "\n",
       "    .dataframe tbody tr th {\n",
       "        vertical-align: top;\n",
       "    }\n",
       "\n",
       "    .dataframe thead th {\n",
       "        text-align: right;\n",
       "    }\n",
       "</style>\n",
       "<table border=\"1\" class=\"dataframe\">\n",
       "  <thead>\n",
       "    <tr style=\"text-align: right;\">\n",
       "      <th></th>\n",
       "      <th>school</th>\n",
       "      <th>sex</th>\n",
       "      <th>age</th>\n",
       "      <th>address</th>\n",
       "      <th>Pstatus</th>\n",
       "      <th>paid</th>\n",
       "      <th>activities</th>\n",
       "      <th>nursery</th>\n",
       "      <th>internet</th>\n",
       "      <th>romantic</th>\n",
       "      <th>...</th>\n",
       "      <th>studytime_2</th>\n",
       "      <th>studytime_3</th>\n",
       "      <th>studytime_4</th>\n",
       "      <th>failures_1</th>\n",
       "      <th>failures_2</th>\n",
       "      <th>failures_3</th>\n",
       "      <th>health_2</th>\n",
       "      <th>health_3</th>\n",
       "      <th>health_4</th>\n",
       "      <th>health_5</th>\n",
       "    </tr>\n",
       "  </thead>\n",
       "  <tbody>\n",
       "    <tr>\n",
       "      <th>0</th>\n",
       "      <td>1</td>\n",
       "      <td>1</td>\n",
       "      <td>18</td>\n",
       "      <td>0</td>\n",
       "      <td>0</td>\n",
       "      <td>0</td>\n",
       "      <td>0</td>\n",
       "      <td>1</td>\n",
       "      <td>0</td>\n",
       "      <td>0</td>\n",
       "      <td>...</td>\n",
       "      <td>1</td>\n",
       "      <td>0</td>\n",
       "      <td>0</td>\n",
       "      <td>0</td>\n",
       "      <td>0</td>\n",
       "      <td>0</td>\n",
       "      <td>0</td>\n",
       "      <td>1</td>\n",
       "      <td>0</td>\n",
       "      <td>0</td>\n",
       "    </tr>\n",
       "    <tr>\n",
       "      <th>1</th>\n",
       "      <td>1</td>\n",
       "      <td>1</td>\n",
       "      <td>17</td>\n",
       "      <td>0</td>\n",
       "      <td>1</td>\n",
       "      <td>0</td>\n",
       "      <td>0</td>\n",
       "      <td>0</td>\n",
       "      <td>1</td>\n",
       "      <td>0</td>\n",
       "      <td>...</td>\n",
       "      <td>1</td>\n",
       "      <td>0</td>\n",
       "      <td>0</td>\n",
       "      <td>0</td>\n",
       "      <td>0</td>\n",
       "      <td>0</td>\n",
       "      <td>0</td>\n",
       "      <td>1</td>\n",
       "      <td>0</td>\n",
       "      <td>0</td>\n",
       "    </tr>\n",
       "    <tr>\n",
       "      <th>2</th>\n",
       "      <td>1</td>\n",
       "      <td>1</td>\n",
       "      <td>15</td>\n",
       "      <td>0</td>\n",
       "      <td>1</td>\n",
       "      <td>0</td>\n",
       "      <td>0</td>\n",
       "      <td>1</td>\n",
       "      <td>1</td>\n",
       "      <td>0</td>\n",
       "      <td>...</td>\n",
       "      <td>1</td>\n",
       "      <td>0</td>\n",
       "      <td>0</td>\n",
       "      <td>0</td>\n",
       "      <td>0</td>\n",
       "      <td>0</td>\n",
       "      <td>0</td>\n",
       "      <td>1</td>\n",
       "      <td>0</td>\n",
       "      <td>0</td>\n",
       "    </tr>\n",
       "    <tr>\n",
       "      <th>3</th>\n",
       "      <td>1</td>\n",
       "      <td>1</td>\n",
       "      <td>15</td>\n",
       "      <td>0</td>\n",
       "      <td>1</td>\n",
       "      <td>0</td>\n",
       "      <td>1</td>\n",
       "      <td>1</td>\n",
       "      <td>1</td>\n",
       "      <td>1</td>\n",
       "      <td>...</td>\n",
       "      <td>0</td>\n",
       "      <td>1</td>\n",
       "      <td>0</td>\n",
       "      <td>0</td>\n",
       "      <td>0</td>\n",
       "      <td>0</td>\n",
       "      <td>0</td>\n",
       "      <td>0</td>\n",
       "      <td>0</td>\n",
       "      <td>1</td>\n",
       "    </tr>\n",
       "    <tr>\n",
       "      <th>4</th>\n",
       "      <td>1</td>\n",
       "      <td>1</td>\n",
       "      <td>16</td>\n",
       "      <td>0</td>\n",
       "      <td>1</td>\n",
       "      <td>0</td>\n",
       "      <td>0</td>\n",
       "      <td>1</td>\n",
       "      <td>0</td>\n",
       "      <td>0</td>\n",
       "      <td>...</td>\n",
       "      <td>1</td>\n",
       "      <td>0</td>\n",
       "      <td>0</td>\n",
       "      <td>0</td>\n",
       "      <td>0</td>\n",
       "      <td>0</td>\n",
       "      <td>0</td>\n",
       "      <td>0</td>\n",
       "      <td>0</td>\n",
       "      <td>1</td>\n",
       "    </tr>\n",
       "    <tr>\n",
       "      <th>...</th>\n",
       "      <td>...</td>\n",
       "      <td>...</td>\n",
       "      <td>...</td>\n",
       "      <td>...</td>\n",
       "      <td>...</td>\n",
       "      <td>...</td>\n",
       "      <td>...</td>\n",
       "      <td>...</td>\n",
       "      <td>...</td>\n",
       "      <td>...</td>\n",
       "      <td>...</td>\n",
       "      <td>...</td>\n",
       "      <td>...</td>\n",
       "      <td>...</td>\n",
       "      <td>...</td>\n",
       "      <td>...</td>\n",
       "      <td>...</td>\n",
       "      <td>...</td>\n",
       "      <td>...</td>\n",
       "      <td>...</td>\n",
       "      <td>...</td>\n",
       "    </tr>\n",
       "    <tr>\n",
       "      <th>644</th>\n",
       "      <td>0</td>\n",
       "      <td>1</td>\n",
       "      <td>19</td>\n",
       "      <td>1</td>\n",
       "      <td>1</td>\n",
       "      <td>0</td>\n",
       "      <td>1</td>\n",
       "      <td>0</td>\n",
       "      <td>1</td>\n",
       "      <td>0</td>\n",
       "      <td>...</td>\n",
       "      <td>0</td>\n",
       "      <td>1</td>\n",
       "      <td>0</td>\n",
       "      <td>1</td>\n",
       "      <td>0</td>\n",
       "      <td>0</td>\n",
       "      <td>0</td>\n",
       "      <td>0</td>\n",
       "      <td>0</td>\n",
       "      <td>1</td>\n",
       "    </tr>\n",
       "    <tr>\n",
       "      <th>645</th>\n",
       "      <td>0</td>\n",
       "      <td>1</td>\n",
       "      <td>18</td>\n",
       "      <td>0</td>\n",
       "      <td>1</td>\n",
       "      <td>0</td>\n",
       "      <td>0</td>\n",
       "      <td>1</td>\n",
       "      <td>1</td>\n",
       "      <td>0</td>\n",
       "      <td>...</td>\n",
       "      <td>1</td>\n",
       "      <td>0</td>\n",
       "      <td>0</td>\n",
       "      <td>0</td>\n",
       "      <td>0</td>\n",
       "      <td>0</td>\n",
       "      <td>0</td>\n",
       "      <td>0</td>\n",
       "      <td>0</td>\n",
       "      <td>0</td>\n",
       "    </tr>\n",
       "    <tr>\n",
       "      <th>646</th>\n",
       "      <td>0</td>\n",
       "      <td>1</td>\n",
       "      <td>18</td>\n",
       "      <td>0</td>\n",
       "      <td>1</td>\n",
       "      <td>0</td>\n",
       "      <td>1</td>\n",
       "      <td>1</td>\n",
       "      <td>0</td>\n",
       "      <td>0</td>\n",
       "      <td>...</td>\n",
       "      <td>1</td>\n",
       "      <td>0</td>\n",
       "      <td>0</td>\n",
       "      <td>0</td>\n",
       "      <td>0</td>\n",
       "      <td>0</td>\n",
       "      <td>0</td>\n",
       "      <td>0</td>\n",
       "      <td>0</td>\n",
       "      <td>1</td>\n",
       "    </tr>\n",
       "    <tr>\n",
       "      <th>647</th>\n",
       "      <td>0</td>\n",
       "      <td>0</td>\n",
       "      <td>17</td>\n",
       "      <td>0</td>\n",
       "      <td>1</td>\n",
       "      <td>0</td>\n",
       "      <td>0</td>\n",
       "      <td>0</td>\n",
       "      <td>1</td>\n",
       "      <td>0</td>\n",
       "      <td>...</td>\n",
       "      <td>0</td>\n",
       "      <td>0</td>\n",
       "      <td>0</td>\n",
       "      <td>0</td>\n",
       "      <td>0</td>\n",
       "      <td>0</td>\n",
       "      <td>1</td>\n",
       "      <td>0</td>\n",
       "      <td>0</td>\n",
       "      <td>0</td>\n",
       "    </tr>\n",
       "    <tr>\n",
       "      <th>648</th>\n",
       "      <td>0</td>\n",
       "      <td>0</td>\n",
       "      <td>18</td>\n",
       "      <td>1</td>\n",
       "      <td>1</td>\n",
       "      <td>0</td>\n",
       "      <td>0</td>\n",
       "      <td>0</td>\n",
       "      <td>1</td>\n",
       "      <td>0</td>\n",
       "      <td>...</td>\n",
       "      <td>0</td>\n",
       "      <td>0</td>\n",
       "      <td>0</td>\n",
       "      <td>0</td>\n",
       "      <td>0</td>\n",
       "      <td>0</td>\n",
       "      <td>0</td>\n",
       "      <td>0</td>\n",
       "      <td>0</td>\n",
       "      <td>1</td>\n",
       "    </tr>\n",
       "  </tbody>\n",
       "</table>\n",
       "<p>649 rows × 51 columns</p>\n",
       "</div>"
      ],
      "text/plain": [
       "    school sex  age address Pstatus paid activities nursery internet romantic  \\\n",
       "0        1   1   18       0       0    0          0       1        0        0   \n",
       "1        1   1   17       0       1    0          0       0        1        0   \n",
       "2        1   1   15       0       1    0          0       1        1        0   \n",
       "3        1   1   15       0       1    0          1       1        1        1   \n",
       "4        1   1   16       0       1    0          0       1        0        0   \n",
       "..     ...  ..  ...     ...     ...  ...        ...     ...      ...      ...   \n",
       "644      0   1   19       1       1    0          1       0        1        0   \n",
       "645      0   1   18       0       1    0          0       1        1        0   \n",
       "646      0   1   18       0       1    0          1       1        0        0   \n",
       "647      0   0   17       0       1    0          0       0        1        0   \n",
       "648      0   0   18       1       1    0          0       0        1        0   \n",
       "\n",
       "     ...  studytime_2  studytime_3  studytime_4  failures_1  failures_2  \\\n",
       "0    ...            1            0            0           0           0   \n",
       "1    ...            1            0            0           0           0   \n",
       "2    ...            1            0            0           0           0   \n",
       "3    ...            0            1            0           0           0   \n",
       "4    ...            1            0            0           0           0   \n",
       "..   ...          ...          ...          ...         ...         ...   \n",
       "644  ...            0            1            0           1           0   \n",
       "645  ...            1            0            0           0           0   \n",
       "646  ...            1            0            0           0           0   \n",
       "647  ...            0            0            0           0           0   \n",
       "648  ...            0            0            0           0           0   \n",
       "\n",
       "     failures_3  health_2  health_3  health_4  health_5  \n",
       "0             0         0         1         0         0  \n",
       "1             0         0         1         0         0  \n",
       "2             0         0         1         0         0  \n",
       "3             0         0         0         0         1  \n",
       "4             0         0         0         0         1  \n",
       "..          ...       ...       ...       ...       ...  \n",
       "644           0         0         0         0         1  \n",
       "645           0         0         0         0         0  \n",
       "646           0         0         0         0         1  \n",
       "647           0         1         0         0         0  \n",
       "648           0         0         0         0         1  \n",
       "\n",
       "[649 rows x 51 columns]"
      ]
     },
     "execution_count": 163,
     "metadata": {},
     "output_type": "execute_result"
    }
   ],
   "source": [
    "df"
   ]
  },
  {
   "cell_type": "code",
   "execution_count": null,
   "metadata": {},
   "outputs": [],
   "source": []
  }
 ],
 "metadata": {
  "kernelspec": {
   "display_name": "Python 3 (ipykernel)",
   "language": "python",
   "name": "python3"
  },
  "language_info": {
   "codemirror_mode": {
    "name": "ipython",
    "version": 3
   },
   "file_extension": ".py",
   "mimetype": "text/x-python",
   "name": "python",
   "nbconvert_exporter": "python",
   "pygments_lexer": "ipython3",
   "version": "3.10.9"
  }
 },
 "nbformat": 4,
 "nbformat_minor": 4
}
