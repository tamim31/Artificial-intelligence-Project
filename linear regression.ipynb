{
 "cells": [
  {
   "cell_type": "markdown",
   "metadata": {},
   "source": [
    "# Data Understanding\n",
    "\n",
    "The data for this data science project in researching factors influencing teenage alcoholism was sourced from the [UCI Machine Learning Repository](https://archive.ics.uci.edu/ml/datasets/student%2Bperformance#). It was donated to the site by Prof. Paulo Cortez of University Minho. His original work on the dataset, \"USING DATA MINING TO PREDICT SECONDARY SCHOOL STUDENT PERFORMANCE, can be found [here](http://www3.dsi.uminho.pt/pcortez/student.pdf)\n",
    "\n",
    "The data set consists of information on various attributes for each student, taking Portuguese language classes who come from ether of the two higher secondary schools, The Gabriel Pereira School and  the Mousinho da Silveira School. There is information on 649 students on 33 attributes. A list of all the features with description can be found on [Readme](https://github.com/Yeshi341/Student_Alcohol_Consumption/blob/master/Readme.md) section of the Github page to this project. The features have also been described sequentially as [EDA]('EDA.ipynb') was performed on each variable in the EDA notebook."
   ]
  },
  {
   "cell_type": "code",
   "execution_count": 1,
   "metadata": {},
   "outputs": [],
   "source": [
    "# Importing necessary libraries\n",
    "import pandas as pd\n",
    "import numpy as np\n",
    "import matplotlib.pyplot as plt\n",
    "%matplotlib inline\n",
    "import seaborn as sns\n",
    "\n",
    "from sklearn.model_selection import train_test_split\n",
    "from sklearn.feature_selection import SelectKBest, f_classif\n",
    "from sklearn.preprocessing import MinMaxScaler\n",
    "from sklearn import metrics\n",
    "from sklearn.linear_model import LinearRegression\n",
    "from sklearn.model_selection import GridSearchCV\n",
    "\n",
    "from sklearn.metrics import ConfusionMatrixDisplay\n",
    "from sklearn.metrics import classification_report,confusion_matrix"
   ]
  },
  {
   "cell_type": "code",
   "execution_count": 3,
   "metadata": {},
   "outputs": [],
   "source": [
    "df = pd.read_csv('preprocessing_file.csv')"
   ]
  },
  {
   "cell_type": "code",
   "execution_count": 7,
   "metadata": {},
   "outputs": [
    {
     "data": {
      "text/html": [
       "<div>\n",
       "<style scoped>\n",
       "    .dataframe tbody tr th:only-of-type {\n",
       "        vertical-align: middle;\n",
       "    }\n",
       "\n",
       "    .dataframe tbody tr th {\n",
       "        vertical-align: top;\n",
       "    }\n",
       "\n",
       "    .dataframe thead th {\n",
       "        text-align: right;\n",
       "    }\n",
       "</style>\n",
       "<table border=\"1\" class=\"dataframe\">\n",
       "  <thead>\n",
       "    <tr style=\"text-align: right;\">\n",
       "      <th></th>\n",
       "      <th>school</th>\n",
       "      <th>sex</th>\n",
       "      <th>age</th>\n",
       "      <th>address</th>\n",
       "      <th>Pstatus</th>\n",
       "      <th>paid</th>\n",
       "      <th>activities</th>\n",
       "      <th>nursery</th>\n",
       "      <th>internet</th>\n",
       "      <th>romantic</th>\n",
       "      <th>absences</th>\n",
       "      <th>alc</th>\n",
       "      <th>stability</th>\n",
       "      <th>academic_support</th>\n",
       "      <th>idle</th>\n",
       "      <th>grade_avg</th>\n",
       "      <th>delinquency</th>\n",
       "      <th>Medu_1</th>\n",
       "      <th>Medu_2</th>\n",
       "      <th>Medu_3</th>\n",
       "      <th>Medu_4</th>\n",
       "      <th>Fedu_1</th>\n",
       "      <th>Fedu_2</th>\n",
       "      <th>Fedu_3</th>\n",
       "      <th>Fedu_4</th>\n",
       "      <th>Mjob_2</th>\n",
       "      <th>Mjob_3</th>\n",
       "      <th>Mjob_4</th>\n",
       "      <th>Mjob_5</th>\n",
       "      <th>Fjob_2</th>\n",
       "      <th>Fjob_3</th>\n",
       "      <th>Fjob_4</th>\n",
       "      <th>Fjob_5</th>\n",
       "      <th>reason_2</th>\n",
       "      <th>reason_3</th>\n",
       "      <th>reason_4</th>\n",
       "      <th>guardian_2</th>\n",
       "      <th>guardian_3</th>\n",
       "      <th>traveltime_2</th>\n",
       "      <th>traveltime_3</th>\n",
       "      <th>traveltime_4</th>\n",
       "      <th>studytime_2</th>\n",
       "      <th>studytime_3</th>\n",
       "      <th>studytime_4</th>\n",
       "      <th>failures_1</th>\n",
       "      <th>failures_2</th>\n",
       "      <th>failures_3</th>\n",
       "      <th>health_2</th>\n",
       "      <th>health_3</th>\n",
       "      <th>health_4</th>\n",
       "      <th>health_5</th>\n",
       "    </tr>\n",
       "  </thead>\n",
       "  <tbody>\n",
       "    <tr>\n",
       "      <th>0</th>\n",
       "      <td>1</td>\n",
       "      <td>1</td>\n",
       "      <td>18</td>\n",
       "      <td>0</td>\n",
       "      <td>0</td>\n",
       "      <td>0</td>\n",
       "      <td>0</td>\n",
       "      <td>1</td>\n",
       "      <td>0</td>\n",
       "      <td>0</td>\n",
       "      <td>4</td>\n",
       "      <td>0</td>\n",
       "      <td>4</td>\n",
       "      <td>2</td>\n",
       "      <td>12</td>\n",
       "      <td>7.33</td>\n",
       "      <td>0</td>\n",
       "      <td>0</td>\n",
       "      <td>0</td>\n",
       "      <td>0</td>\n",
       "      <td>1</td>\n",
       "      <td>0</td>\n",
       "      <td>0</td>\n",
       "      <td>0</td>\n",
       "      <td>1</td>\n",
       "      <td>0</td>\n",
       "      <td>0</td>\n",
       "      <td>0</td>\n",
       "      <td>0</td>\n",
       "      <td>0</td>\n",
       "      <td>1</td>\n",
       "      <td>0</td>\n",
       "      <td>0</td>\n",
       "      <td>0</td>\n",
       "      <td>1</td>\n",
       "      <td>0</td>\n",
       "      <td>1</td>\n",
       "      <td>0</td>\n",
       "      <td>1</td>\n",
       "      <td>0</td>\n",
       "      <td>0</td>\n",
       "      <td>1</td>\n",
       "      <td>0</td>\n",
       "      <td>0</td>\n",
       "      <td>0</td>\n",
       "      <td>0</td>\n",
       "      <td>0</td>\n",
       "      <td>0</td>\n",
       "      <td>1</td>\n",
       "      <td>0</td>\n",
       "      <td>0</td>\n",
       "    </tr>\n",
       "    <tr>\n",
       "      <th>1</th>\n",
       "      <td>1</td>\n",
       "      <td>1</td>\n",
       "      <td>17</td>\n",
       "      <td>0</td>\n",
       "      <td>1</td>\n",
       "      <td>0</td>\n",
       "      <td>0</td>\n",
       "      <td>0</td>\n",
       "      <td>1</td>\n",
       "      <td>0</td>\n",
       "      <td>2</td>\n",
       "      <td>0</td>\n",
       "      <td>5</td>\n",
       "      <td>2</td>\n",
       "      <td>9</td>\n",
       "      <td>10.33</td>\n",
       "      <td>0</td>\n",
       "      <td>1</td>\n",
       "      <td>0</td>\n",
       "      <td>0</td>\n",
       "      <td>0</td>\n",
       "      <td>1</td>\n",
       "      <td>0</td>\n",
       "      <td>0</td>\n",
       "      <td>0</td>\n",
       "      <td>0</td>\n",
       "      <td>0</td>\n",
       "      <td>0</td>\n",
       "      <td>0</td>\n",
       "      <td>0</td>\n",
       "      <td>0</td>\n",
       "      <td>0</td>\n",
       "      <td>1</td>\n",
       "      <td>0</td>\n",
       "      <td>1</td>\n",
       "      <td>0</td>\n",
       "      <td>0</td>\n",
       "      <td>0</td>\n",
       "      <td>0</td>\n",
       "      <td>0</td>\n",
       "      <td>0</td>\n",
       "      <td>1</td>\n",
       "      <td>0</td>\n",
       "      <td>0</td>\n",
       "      <td>0</td>\n",
       "      <td>0</td>\n",
       "      <td>0</td>\n",
       "      <td>0</td>\n",
       "      <td>1</td>\n",
       "      <td>0</td>\n",
       "      <td>0</td>\n",
       "    </tr>\n",
       "    <tr>\n",
       "      <th>2</th>\n",
       "      <td>1</td>\n",
       "      <td>1</td>\n",
       "      <td>15</td>\n",
       "      <td>0</td>\n",
       "      <td>1</td>\n",
       "      <td>0</td>\n",
       "      <td>0</td>\n",
       "      <td>1</td>\n",
       "      <td>1</td>\n",
       "      <td>0</td>\n",
       "      <td>6</td>\n",
       "      <td>0</td>\n",
       "      <td>0</td>\n",
       "      <td>2</td>\n",
       "      <td>6</td>\n",
       "      <td>12.33</td>\n",
       "      <td>0</td>\n",
       "      <td>1</td>\n",
       "      <td>0</td>\n",
       "      <td>0</td>\n",
       "      <td>0</td>\n",
       "      <td>1</td>\n",
       "      <td>0</td>\n",
       "      <td>0</td>\n",
       "      <td>0</td>\n",
       "      <td>0</td>\n",
       "      <td>0</td>\n",
       "      <td>0</td>\n",
       "      <td>0</td>\n",
       "      <td>0</td>\n",
       "      <td>0</td>\n",
       "      <td>0</td>\n",
       "      <td>1</td>\n",
       "      <td>0</td>\n",
       "      <td>0</td>\n",
       "      <td>1</td>\n",
       "      <td>1</td>\n",
       "      <td>0</td>\n",
       "      <td>0</td>\n",
       "      <td>0</td>\n",
       "      <td>0</td>\n",
       "      <td>1</td>\n",
       "      <td>0</td>\n",
       "      <td>0</td>\n",
       "      <td>0</td>\n",
       "      <td>0</td>\n",
       "      <td>0</td>\n",
       "      <td>0</td>\n",
       "      <td>1</td>\n",
       "      <td>0</td>\n",
       "      <td>0</td>\n",
       "    </tr>\n",
       "    <tr>\n",
       "      <th>3</th>\n",
       "      <td>1</td>\n",
       "      <td>1</td>\n",
       "      <td>15</td>\n",
       "      <td>0</td>\n",
       "      <td>1</td>\n",
       "      <td>0</td>\n",
       "      <td>1</td>\n",
       "      <td>1</td>\n",
       "      <td>1</td>\n",
       "      <td>1</td>\n",
       "      <td>0</td>\n",
       "      <td>0</td>\n",
       "      <td>3</td>\n",
       "      <td>2</td>\n",
       "      <td>4</td>\n",
       "      <td>14.00</td>\n",
       "      <td>0</td>\n",
       "      <td>0</td>\n",
       "      <td>0</td>\n",
       "      <td>0</td>\n",
       "      <td>1</td>\n",
       "      <td>0</td>\n",
       "      <td>1</td>\n",
       "      <td>0</td>\n",
       "      <td>0</td>\n",
       "      <td>0</td>\n",
       "      <td>0</td>\n",
       "      <td>1</td>\n",
       "      <td>0</td>\n",
       "      <td>1</td>\n",
       "      <td>0</td>\n",
       "      <td>0</td>\n",
       "      <td>0</td>\n",
       "      <td>0</td>\n",
       "      <td>0</td>\n",
       "      <td>0</td>\n",
       "      <td>1</td>\n",
       "      <td>0</td>\n",
       "      <td>0</td>\n",
       "      <td>0</td>\n",
       "      <td>0</td>\n",
       "      <td>0</td>\n",
       "      <td>1</td>\n",
       "      <td>0</td>\n",
       "      <td>0</td>\n",
       "      <td>0</td>\n",
       "      <td>0</td>\n",
       "      <td>0</td>\n",
       "      <td>0</td>\n",
       "      <td>0</td>\n",
       "      <td>1</td>\n",
       "    </tr>\n",
       "    <tr>\n",
       "      <th>4</th>\n",
       "      <td>1</td>\n",
       "      <td>1</td>\n",
       "      <td>16</td>\n",
       "      <td>0</td>\n",
       "      <td>1</td>\n",
       "      <td>0</td>\n",
       "      <td>0</td>\n",
       "      <td>1</td>\n",
       "      <td>0</td>\n",
       "      <td>0</td>\n",
       "      <td>0</td>\n",
       "      <td>0</td>\n",
       "      <td>4</td>\n",
       "      <td>2</td>\n",
       "      <td>6</td>\n",
       "      <td>12.33</td>\n",
       "      <td>0</td>\n",
       "      <td>0</td>\n",
       "      <td>0</td>\n",
       "      <td>1</td>\n",
       "      <td>0</td>\n",
       "      <td>0</td>\n",
       "      <td>0</td>\n",
       "      <td>1</td>\n",
       "      <td>0</td>\n",
       "      <td>0</td>\n",
       "      <td>0</td>\n",
       "      <td>0</td>\n",
       "      <td>1</td>\n",
       "      <td>0</td>\n",
       "      <td>0</td>\n",
       "      <td>0</td>\n",
       "      <td>1</td>\n",
       "      <td>0</td>\n",
       "      <td>0</td>\n",
       "      <td>0</td>\n",
       "      <td>0</td>\n",
       "      <td>0</td>\n",
       "      <td>0</td>\n",
       "      <td>0</td>\n",
       "      <td>0</td>\n",
       "      <td>1</td>\n",
       "      <td>0</td>\n",
       "      <td>0</td>\n",
       "      <td>0</td>\n",
       "      <td>0</td>\n",
       "      <td>0</td>\n",
       "      <td>0</td>\n",
       "      <td>0</td>\n",
       "      <td>0</td>\n",
       "      <td>1</td>\n",
       "    </tr>\n",
       "  </tbody>\n",
       "</table>\n",
       "</div>"
      ],
      "text/plain": [
       "   school  sex  age  address  Pstatus  paid  activities  nursery  internet  \\\n",
       "0       1    1   18        0        0     0           0        1         0   \n",
       "1       1    1   17        0        1     0           0        0         1   \n",
       "2       1    1   15        0        1     0           0        1         1   \n",
       "3       1    1   15        0        1     0           1        1         1   \n",
       "4       1    1   16        0        1     0           0        1         0   \n",
       "\n",
       "   romantic  absences  alc  stability  academic_support  idle  grade_avg  \\\n",
       "0         0         4    0          4                 2    12       7.33   \n",
       "1         0         2    0          5                 2     9      10.33   \n",
       "2         0         6    0          0                 2     6      12.33   \n",
       "3         1         0    0          3                 2     4      14.00   \n",
       "4         0         0    0          4                 2     6      12.33   \n",
       "\n",
       "   delinquency  Medu_1  Medu_2  Medu_3  Medu_4  Fedu_1  Fedu_2  Fedu_3  \\\n",
       "0            0       0       0       0       1       0       0       0   \n",
       "1            0       1       0       0       0       1       0       0   \n",
       "2            0       1       0       0       0       1       0       0   \n",
       "3            0       0       0       0       1       0       1       0   \n",
       "4            0       0       0       1       0       0       0       1   \n",
       "\n",
       "   Fedu_4  Mjob_2  Mjob_3  Mjob_4  Mjob_5  Fjob_2  Fjob_3  Fjob_4  Fjob_5  \\\n",
       "0       1       0       0       0       0       0       1       0       0   \n",
       "1       0       0       0       0       0       0       0       0       1   \n",
       "2       0       0       0       0       0       0       0       0       1   \n",
       "3       0       0       0       1       0       1       0       0       0   \n",
       "4       0       0       0       0       1       0       0       0       1   \n",
       "\n",
       "   reason_2  reason_3  reason_4  guardian_2  guardian_3  traveltime_2  \\\n",
       "0         0         1         0           1           0             1   \n",
       "1         0         1         0           0           0             0   \n",
       "2         0         0         1           1           0             0   \n",
       "3         0         0         0           1           0             0   \n",
       "4         0         0         0           0           0             0   \n",
       "\n",
       "   traveltime_3  traveltime_4  studytime_2  studytime_3  studytime_4  \\\n",
       "0             0             0            1            0            0   \n",
       "1             0             0            1            0            0   \n",
       "2             0             0            1            0            0   \n",
       "3             0             0            0            1            0   \n",
       "4             0             0            1            0            0   \n",
       "\n",
       "   failures_1  failures_2  failures_3  health_2  health_3  health_4  health_5  \n",
       "0           0           0           0         0         1         0         0  \n",
       "1           0           0           0         0         1         0         0  \n",
       "2           0           0           0         0         1         0         0  \n",
       "3           0           0           0         0         0         0         1  \n",
       "4           0           0           0         0         0         0         1  "
      ]
     },
     "execution_count": 7,
     "metadata": {},
     "output_type": "execute_result"
    }
   ],
   "source": [
    "pd.set_option(\"display.max_columns\",None)\n",
    "df.head()"
   ]
  },
  {
   "cell_type": "code",
   "execution_count": 8,
   "metadata": {},
   "outputs": [
    {
     "data": {
      "text/plain": [
       "school                int64\n",
       "sex                   int64\n",
       "age                   int64\n",
       "address               int64\n",
       "Pstatus               int64\n",
       "paid                  int64\n",
       "activities            int64\n",
       "nursery               int64\n",
       "internet              int64\n",
       "romantic              int64\n",
       "absences              int64\n",
       "alc                   int64\n",
       "stability             int64\n",
       "academic_support      int64\n",
       "idle                  int64\n",
       "grade_avg           float64\n",
       "delinquency           int64\n",
       "Medu_1                int64\n",
       "Medu_2                int64\n",
       "Medu_3                int64\n",
       "Medu_4                int64\n",
       "Fedu_1                int64\n",
       "Fedu_2                int64\n",
       "Fedu_3                int64\n",
       "Fedu_4                int64\n",
       "Mjob_2                int64\n",
       "Mjob_3                int64\n",
       "Mjob_4                int64\n",
       "Mjob_5                int64\n",
       "Fjob_2                int64\n",
       "Fjob_3                int64\n",
       "Fjob_4                int64\n",
       "Fjob_5                int64\n",
       "reason_2              int64\n",
       "reason_3              int64\n",
       "reason_4              int64\n",
       "guardian_2            int64\n",
       "guardian_3            int64\n",
       "traveltime_2          int64\n",
       "traveltime_3          int64\n",
       "traveltime_4          int64\n",
       "studytime_2           int64\n",
       "studytime_3           int64\n",
       "studytime_4           int64\n",
       "failures_1            int64\n",
       "failures_2            int64\n",
       "failures_3            int64\n",
       "health_2              int64\n",
       "health_3              int64\n",
       "health_4              int64\n",
       "health_5              int64\n",
       "dtype: object"
      ]
     },
     "execution_count": 8,
     "metadata": {},
     "output_type": "execute_result"
    }
   ],
   "source": [
    "df.dtypes"
   ]
  },
  {
   "cell_type": "code",
   "execution_count": 9,
   "metadata": {},
   "outputs": [
    {
     "data": {
      "text/plain": [
       "(649, 51)"
      ]
     },
     "execution_count": 9,
     "metadata": {},
     "output_type": "execute_result"
    }
   ],
   "source": [
    "df.shape"
   ]
  },
  {
   "cell_type": "markdown",
   "metadata": {},
   "source": [
    "### Train Test Split"
   ]
  },
  {
   "cell_type": "code",
   "execution_count": 24,
   "metadata": {},
   "outputs": [
    {
     "name": "stdout",
     "output_type": "stream",
     "text": [
      "Training set - Features:  (519, 50) Target:  (519,)\n",
      "Test set - Features:  (130, 50) Target:  (130,)\n"
     ]
    }
   ],
   "source": [
    "X = df.drop(columns = ['grade_avg'], axis = 1) \n",
    "y = df['grade_avg']\n",
    "X_train, X_test, y_train, y_test = train_test_split(X, y, random_state=150, test_size=0.2)\n",
    "\n",
    "print(\"Training set - Features: \", X_train.shape, \"Target: \", y_train.shape,)\n",
    "print(\"Test set - Features: \", X_test.shape, \"Target: \",y_test.shape,)\n",
    "#print(y_train.value_counts(normalize = True))\n",
    "#print(y_test.value_counts(normalize = True))"
   ]
  },
  {
   "cell_type": "markdown",
   "metadata": {},
   "source": [
    "**Scaling**"
   ]
  },
  {
   "cell_type": "code",
   "execution_count": 25,
   "metadata": {},
   "outputs": [],
   "source": [
    "scaler= MinMaxScaler()  \n",
    "scaler.fit(X_train)\n",
    "\n",
    "X_train_scale = scaler.transform(X_train)  \n",
    "X_test_scale = scaler.transform(X_test)"
   ]
  },
  {
   "cell_type": "markdown",
   "metadata": {},
   "source": [
    "# Feature Selection"
   ]
  },
  {
   "cell_type": "markdown",
   "metadata": {},
   "source": [
    "### Select Kbest 10"
   ]
  },
  {
   "cell_type": "code",
   "execution_count": 26,
   "metadata": {},
   "outputs": [
    {
     "name": "stdout",
     "output_type": "stream",
     "text": [
      "(519, 10) (130, 10)\n"
     ]
    }
   ],
   "source": [
    "\n",
    "selector = SelectKBest(f_classif, k=10) \n",
    "selector.fit(X_train, y_train)\n",
    "\n",
    "selected_columns = X_train.columns[selector.get_support()]\n",
    "\n",
    "X_train_kb10 = X_train[selected_columns]\n",
    "X_test_kb10 = X_test[selected_columns]\n",
    "print(X_train_kb10.shape, X_test_kb10.shape)\n"
   ]
  },
  {
   "cell_type": "markdown",
   "metadata": {},
   "source": [
    "### Select Kbest 15"
   ]
  },
  {
   "cell_type": "code",
   "execution_count": 27,
   "metadata": {},
   "outputs": [],
   "source": [
    "\n",
    "selector = SelectKBest(f_classif, k=15) \n",
    "selector.fit(X_train, y_train)\n",
    "\n",
    "selected_columns = X_train.columns[selector.get_support()]\n",
    "removed_columns = X_train.columns[~selector.get_support()]\n",
    "\n",
    "X_train_kb15 = X_train[selected_columns]\n",
    "X_test_kb15 = X_test[selected_columns]"
   ]
  },
  {
   "cell_type": "markdown",
   "metadata": {},
   "source": [
    "### Select Kbest 20"
   ]
  },
  {
   "cell_type": "code",
   "execution_count": 28,
   "metadata": {},
   "outputs": [],
   "source": [
    "\n",
    "selector = SelectKBest(f_classif, k=20) \n",
    "selector.fit(X_train, y_train)\n",
    "\n",
    "selected_columns = X_train.columns[selector.get_support()]\n",
    "removed_columns = X_train.columns[~selector.get_support()]\n",
    "\n",
    "X_train_kb20 = X_train[selected_columns]\n",
    "X_test_kb20 = X_test[selected_columns]"
   ]
  },
  {
   "cell_type": "markdown",
   "metadata": {},
   "source": [
    "### Select Kbest 25"
   ]
  },
  {
   "cell_type": "code",
   "execution_count": 29,
   "metadata": {},
   "outputs": [],
   "source": [
    "\n",
    "selector = SelectKBest(f_classif, k=25)\n",
    "selector.fit(X_train, y_train)\n",
    "\n",
    "selected_columns = X_train.columns[selector.get_support()]\n",
    "removed_columns = X_train.columns[~selector.get_support()]\n",
    "\n",
    "X_train_kb25 = X_train[selected_columns]\n",
    "X_test_kb25 = X_test[selected_columns]"
   ]
  },
  {
   "cell_type": "markdown",
   "metadata": {},
   "source": [
    "### Select Kbest 30"
   ]
  },
  {
   "cell_type": "code",
   "execution_count": 30,
   "metadata": {},
   "outputs": [],
   "source": [
    "\n",
    "selector = SelectKBest(f_classif, k=30)\n",
    "selector.fit(X_train, y_train)\n",
    "\n",
    "selected_columns = X_train.columns[selector.get_support()]\n",
    "removed_columns = X_train.columns[~selector.get_support()]\n",
    "\n",
    "X_train_kb30 = X_train[selected_columns]\n",
    "X_test_kb30 = X_test[selected_columns]"
   ]
  },
  {
   "cell_type": "markdown",
   "metadata": {},
   "source": [
    "### Select Kbest 35"
   ]
  },
  {
   "cell_type": "code",
   "execution_count": 31,
   "metadata": {},
   "outputs": [],
   "source": [
    "\n",
    "selector = SelectKBest(f_classif, k=35) \n",
    "selector.fit(X_train, y_train)\n",
    "\n",
    "selected_columns = X_train.columns[selector.get_support()]\n",
    "removed_columns = X_train.columns[~selector.get_support()]\n",
    "\n",
    "X_train_kb35 = X_train[selected_columns]\n",
    "X_test_kb35 = X_test[selected_columns]"
   ]
  },
  {
   "cell_type": "markdown",
   "metadata": {},
   "source": [
    "# Models"
   ]
  },
  {
   "cell_type": "markdown",
   "metadata": {},
   "source": [
    "Our target variable in this project, tells whether a student is a heavy alcohol drinker or not. Our main concern here becomes that we do not want to predict that a student is not a heavy drinker when they actually are. Thus, we are interested in minimizing chances of any False Negatives. Correctly, identifying student has a problem allows us to appropriately allocate help or resources to ameliorate conditions for that student/s to minimize any drinking problem. \n",
    "\n",
    "Thus, our focus will be on the recall score or sensitivity score that tells us the proportion of actual positives identified correctly, given by (TP/(TP+FN). The higher this score, the better. \n",
    "\n",
    "We also looked at the Accuracy score and the F1 scores as extra metrics to compare model performance on."
   ]
  },
  {
   "cell_type": "markdown",
   "metadata": {},
   "source": [
    "# 1.Linear Model\n",
    "**Running a model without any class imbalance resolution on the original features with no transformations or scaling**"
   ]
  },
  {
   "cell_type": "code",
   "execution_count": 32,
   "metadata": {},
   "outputs": [
    {
     "name": "stdout",
     "output_type": "stream",
     "text": [
      "MAE : 1.8904532911737668\n",
      "MSE : 6.619305947373856\n"
     ]
    }
   ],
   "source": [
    "lr1 = LinearRegression()\n",
    "\n",
    "lr1.fit(X_train, y_train)\n",
    "p = lr1.predict(X_test)\n",
    "\n",
    "print('MAE :',metrics.mean_absolute_error(y_test,p))\n",
    "print('MSE :',metrics.mean_squared_error(y_test,p))\n"
   ]
  },
  {
   "cell_type": "code",
   "execution_count": 33,
   "metadata": {},
   "outputs": [
    {
     "data": {
      "text/plain": [
       "{'1.linear_original_features': (1.8905, 6.6193)}"
      ]
     },
     "execution_count": 33,
     "metadata": {},
     "output_type": "execute_result"
    }
   ],
   "source": [
    "results = {}\n",
    "\n",
    "results['1.linear_original_features'] = (round(metrics.mean_absolute_error(y_test, p),4), \n",
    "                            round(metrics.mean_squared_error(y_test, p),4), \n",
    "                          )\n",
    "results"
   ]
  },
  {
   "cell_type": "markdown",
   "metadata": {},
   "source": [
    "### 2. Linear Regression with X_train_scale ( Scaled Train set)"
   ]
  },
  {
   "cell_type": "code",
   "execution_count": 34,
   "metadata": {},
   "outputs": [
    {
     "name": "stdout",
     "output_type": "stream",
     "text": [
      "MAE : 1.8904532911737661\n",
      "MSE : 6.619305947373853\n"
     ]
    }
   ],
   "source": [
    "lrscaled = LinearRegression()\n",
    "lrscaled.fit(X_train_scale, y_train)\n",
    "p = lrscaled.predict(X_test_scale)\n",
    "\n",
    "print('MAE :',metrics.mean_absolute_error(y_test,p))\n",
    "print('MSE :',metrics.mean_squared_error(y_test,p))\n",
    "\n"
   ]
  },
  {
   "cell_type": "code",
   "execution_count": 35,
   "metadata": {},
   "outputs": [
    {
     "data": {
      "text/plain": [
       "{'1.linear_original_features': (1.8905, 6.6193),\n",
       " '2.lr_scaled': (1.8905, 6.6193)}"
      ]
     },
     "execution_count": 35,
     "metadata": {},
     "output_type": "execute_result"
    }
   ],
   "source": [
    "results['2.lr_scaled'] = (round(metrics.mean_absolute_error(y_test, p),4), \n",
    "                            round(metrics.mean_squared_error(y_test, p),4), \n",
    "                          )\n",
    "results\n"
   ]
  },
  {
   "cell_type": "markdown",
   "metadata": {},
   "source": [
    "### 3. Linear Regression with K best 10"
   ]
  },
  {
   "cell_type": "code",
   "execution_count": 36,
   "metadata": {},
   "outputs": [
    {
     "name": "stdout",
     "output_type": "stream",
     "text": [
      "MAE : 1.8585921421933038\n",
      "MSE : 6.034359976188658\n"
     ]
    }
   ],
   "source": [
    "kb10_lr = LinearRegression()\n",
    "\n",
    "kb10_lr.fit(X_train_kb10, y_train)\n",
    "p = kb10_lr.predict(X_test_kb10)\n",
    "\n",
    "print('MAE :',metrics.mean_absolute_error(y_test,p))\n",
    "print('MSE :',metrics.mean_squared_error(y_test,p))\n",
    "\n",
    "\n"
   ]
  },
  {
   "cell_type": "code",
   "execution_count": 37,
   "metadata": {},
   "outputs": [
    {
     "data": {
      "text/plain": [
       "{'1.linear_original_features': (1.8905, 6.6193),\n",
       " '2.lr_scaled': (1.8905, 6.6193),\n",
       " '3.lr_kb10': (1.8586, 6.0344)}"
      ]
     },
     "execution_count": 37,
     "metadata": {},
     "output_type": "execute_result"
    }
   ],
   "source": [
    "results['3.lr_kb10'] =  (round(metrics.mean_absolute_error(y_test, p),4), \n",
    "                            round(metrics.mean_squared_error(y_test, p),4), \n",
    "                          )\n",
    "results"
   ]
  },
  {
   "cell_type": "markdown",
   "metadata": {},
   "source": [
    "### 4.  Linear  Regression with K best 15"
   ]
  },
  {
   "cell_type": "code",
   "execution_count": 38,
   "metadata": {},
   "outputs": [
    {
     "name": "stdout",
     "output_type": "stream",
     "text": [
      "MAE : 1.7920546784091607\n",
      "MSE : 5.506881045361295\n"
     ]
    }
   ],
   "source": [
    "kb15_lr = LinearRegression()\n",
    "\n",
    "kb15_lr.fit(X_train_kb15, y_train)\n",
    "p = kb15_lr.predict(X_test_kb15)\n",
    "\n",
    "print('MAE :',metrics.mean_absolute_error(y_test,p))\n",
    "print('MSE :',metrics.mean_squared_error(y_test,p))\n"
   ]
  },
  {
   "cell_type": "code",
   "execution_count": 39,
   "metadata": {},
   "outputs": [
    {
     "data": {
      "text/plain": [
       "{'1.linear_original_features': (1.8905, 6.6193),\n",
       " '2.lr_scaled': (1.8905, 6.6193),\n",
       " '3.lr_kb10': (1.8586, 6.0344),\n",
       " '4.lr_kb15': (1.7921, 5.5069)}"
      ]
     },
     "execution_count": 39,
     "metadata": {},
     "output_type": "execute_result"
    }
   ],
   "source": [
    "results['4.lr_kb15'] = (round(metrics.mean_absolute_error(y_test, p),4), \n",
    "                            round(metrics.mean_squared_error(y_test, p),4), \n",
    "                          )\n",
    "results"
   ]
  },
  {
   "cell_type": "markdown",
   "metadata": {},
   "source": [
    "### 5.  Linear  Regression with K best 20"
   ]
  },
  {
   "cell_type": "code",
   "execution_count": 40,
   "metadata": {},
   "outputs": [
    {
     "name": "stdout",
     "output_type": "stream",
     "text": [
      "MAE : 1.8059461464244662\n",
      "MSE : 5.831062116589294\n"
     ]
    }
   ],
   "source": [
    "kb20_lr = LinearRegression()\n",
    "\n",
    "kb20_lr.fit(X_train_kb20, y_train)\n",
    "p = kb20_lr.predict(X_test_kb20)\n",
    "\n",
    "print('MAE :',metrics.mean_absolute_error(y_test,p))\n",
    "print('MSE :',metrics.mean_squared_error(y_test,p))"
   ]
  },
  {
   "cell_type": "code",
   "execution_count": 41,
   "metadata": {},
   "outputs": [
    {
     "data": {
      "text/plain": [
       "{'1.linear_original_features': (1.8905, 6.6193),\n",
       " '2.lr_scaled': (1.8905, 6.6193),\n",
       " '3.lr_kb10': (1.8586, 6.0344),\n",
       " '4.lr_kb15': (1.7921, 5.5069),\n",
       " '5.lr_kb20': (1.8059, 5.8311)}"
      ]
     },
     "execution_count": 41,
     "metadata": {},
     "output_type": "execute_result"
    }
   ],
   "source": [
    "results['5.lr_kb20'] =  (round(metrics.mean_absolute_error(y_test, p),4), \n",
    "                            round(metrics.mean_squared_error(y_test, p),4), \n",
    "                          )\n",
    "results"
   ]
  },
  {
   "cell_type": "markdown",
   "metadata": {},
   "source": [
    "### 6.  Linear  Regression with K best 25"
   ]
  },
  {
   "cell_type": "code",
   "execution_count": 42,
   "metadata": {},
   "outputs": [
    {
     "name": "stdout",
     "output_type": "stream",
     "text": [
      "MAE : 1.8189869499930544\n",
      "MSE : 5.727453909697653\n"
     ]
    }
   ],
   "source": [
    "kb25_lr = LinearRegression()\n",
    "\n",
    "kb25_lr.fit(X_train_kb25, y_train)\n",
    "p = kb25_lr.predict(X_test_kb25)\n",
    "\n",
    "print('MAE :',metrics.mean_absolute_error(y_test,p))\n",
    "print('MSE :',metrics.mean_squared_error(y_test,p))"
   ]
  },
  {
   "cell_type": "code",
   "execution_count": 43,
   "metadata": {},
   "outputs": [
    {
     "data": {
      "text/plain": [
       "{'1.linear_original_features': (1.8905, 6.6193),\n",
       " '2.lr_scaled': (1.8905, 6.6193),\n",
       " '3.lr_kb10': (1.8586, 6.0344),\n",
       " '4.lr_kb15': (1.7921, 5.5069),\n",
       " '5.lr_kb20': (1.8059, 5.8311),\n",
       " '6.lr_kb25': (1.819, 5.7275)}"
      ]
     },
     "execution_count": 43,
     "metadata": {},
     "output_type": "execute_result"
    }
   ],
   "source": [
    "results['6.lr_kb25'] = (round(metrics.mean_absolute_error(y_test, p),4), \n",
    "                            round(metrics.mean_squared_error(y_test, p),4), \n",
    "                          )\n",
    "results"
   ]
  },
  {
   "cell_type": "markdown",
   "metadata": {},
   "source": [
    "### 7.  Linear  Regression with K best 30"
   ]
  },
  {
   "cell_type": "code",
   "execution_count": 44,
   "metadata": {},
   "outputs": [
    {
     "name": "stdout",
     "output_type": "stream",
     "text": [
      "MAE : 1.8772387211796646\n",
      "MSE : 6.188421396564386\n"
     ]
    }
   ],
   "source": [
    "kb30_lr = LinearRegression()\n",
    "\n",
    "kb30_lr.fit(X_train_kb30, y_train)\n",
    "p = kb30_lr.predict(X_test_kb30)\n",
    "\n",
    "print('MAE :',metrics.mean_absolute_error(y_test,p))\n",
    "print('MSE :',metrics.mean_squared_error(y_test,p))"
   ]
  },
  {
   "cell_type": "code",
   "execution_count": 45,
   "metadata": {},
   "outputs": [
    {
     "data": {
      "text/plain": [
       "{'1.linear_original_features': (1.8905, 6.6193),\n",
       " '2.lr_scaled': (1.8905, 6.6193),\n",
       " '3.lr_kb10': (1.8586, 6.0344),\n",
       " '4.lr_kb15': (1.7921, 5.5069),\n",
       " '5.lr_kb20': (1.8059, 5.8311),\n",
       " '6.lr_kb25': (1.819, 5.7275),\n",
       " '7.lr_kb30': (1.8772, 6.1884)}"
      ]
     },
     "execution_count": 45,
     "metadata": {},
     "output_type": "execute_result"
    }
   ],
   "source": [
    "results['7.lr_kb30'] =  (round(metrics.mean_absolute_error(y_test, p),4), \n",
    "                            round(metrics.mean_squared_error(y_test, p),4), \n",
    "                          )\n",
    "results"
   ]
  },
  {
   "cell_type": "markdown",
   "metadata": {},
   "source": [
    "### 8.  Linear  Regression with K best 35"
   ]
  },
  {
   "cell_type": "code",
   "execution_count": 46,
   "metadata": {},
   "outputs": [
    {
     "name": "stdout",
     "output_type": "stream",
     "text": [
      "MAE : 1.8510871528279271\n",
      "MSE : 6.11453353994273\n"
     ]
    }
   ],
   "source": [
    "kb35_lr = LinearRegression()\n",
    "\n",
    "kb35_lr.fit(X_train_kb35, y_train)\n",
    "p = kb35_lr.predict(X_test_kb35)\n",
    "\n",
    "print('MAE :',metrics.mean_absolute_error(y_test,p))\n",
    "print('MSE :',metrics.mean_squared_error(y_test,p))"
   ]
  },
  {
   "cell_type": "code",
   "execution_count": 47,
   "metadata": {},
   "outputs": [
    {
     "data": {
      "text/plain": [
       "{'1.linear_original_features': (1.8905, 6.6193),\n",
       " '2.lr_scaled': (1.8905, 6.6193),\n",
       " '3.lr_kb10': (1.8586, 6.0344),\n",
       " '4.lr_kb15': (1.7921, 5.5069),\n",
       " '5.lr_kb20': (1.8059, 5.8311),\n",
       " '6.lr_kb25': (1.819, 5.7275),\n",
       " '7.lr_kb30': (1.8772, 6.1884),\n",
       " '8.lr_kb35': (1.8511, 6.1145)}"
      ]
     },
     "execution_count": 47,
     "metadata": {},
     "output_type": "execute_result"
    }
   ],
   "source": [
    "results['8.lr_kb35'] =  (round(metrics.mean_absolute_error(y_test, p),4), \n",
    "                            round(metrics.mean_squared_error(y_test, p),4), \n",
    "                          )\n",
    "results"
   ]
  },
  {
   "cell_type": "markdown",
   "metadata": {},
   "source": [
    "**Final model**\n",
    "we see that higher accuracy come from knn_kb15 so we featured 15 variables for Linear regression model."
   ]
  },
  {
   "cell_type": "code",
   "execution_count": 49,
   "metadata": {},
   "outputs": [
    {
     "name": "stdout",
     "output_type": "stream",
     "text": [
      "MAE : 1.7920546784091607\n",
      "MSE : 5.506881045361295\n"
     ]
    }
   ],
   "source": [
    "kb15_lr = LinearRegression()\n",
    "\n",
    "kb15_lr.fit(X_train_kb15, y_train)\n",
    "p = kb15_lr.predict(X_test_kb15)\n",
    "\n",
    "print('MAE :',metrics.mean_absolute_error(y_test,p))\n",
    "print('MSE :',metrics.mean_squared_error(y_test,p))"
   ]
  },
  {
   "cell_type": "code",
   "execution_count": null,
   "metadata": {},
   "outputs": [],
   "source": []
  },
  {
   "cell_type": "code",
   "execution_count": null,
   "metadata": {},
   "outputs": [],
   "source": []
  },
  {
   "cell_type": "code",
   "execution_count": null,
   "metadata": {},
   "outputs": [],
   "source": []
  },
  {
   "cell_type": "code",
   "execution_count": null,
   "metadata": {},
   "outputs": [],
   "source": []
  }
 ],
 "metadata": {
  "kernelspec": {
   "display_name": "Python 3 (ipykernel)",
   "language": "python",
   "name": "python3"
  },
  "language_info": {
   "codemirror_mode": {
    "name": "ipython",
    "version": 3
   },
   "file_extension": ".py",
   "mimetype": "text/x-python",
   "name": "python",
   "nbconvert_exporter": "python",
   "pygments_lexer": "ipython3",
   "version": "3.10.9"
  }
 },
 "nbformat": 4,
 "nbformat_minor": 4
}
