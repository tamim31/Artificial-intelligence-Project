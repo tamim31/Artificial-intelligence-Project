{
 "cells": [
  {
   "cell_type": "markdown",
   "metadata": {},
   "source": [
    "# Data Understanding\n",
    "\n",
    "The data for this data science project in researching factors influencing teenage alcoholism was sourced from the [UCI Machine Learning Repository](https://archive.ics.uci.edu/ml/datasets/student%2Bperformance#). It was donated to the site by Prof. Paulo Cortez of University Minho. His original work on the dataset, \"USING DATA MINING TO PREDICT SECONDARY SCHOOL STUDENT PERFORMANCE, can be found [here](http://www3.dsi.uminho.pt/pcortez/student.pdf)\n",
    "\n",
    "The data set consists of information on various attributes for each student, taking Portuguese language classes who come from ether of the two higher secondary schools, The Gabriel Pereira School and  the Mousinho da Silveira School. There is information on 649 students on 33 attributes. A list of all the features with description can be found on [Readme](https://github.com/Yeshi341/Student_Alcohol_Consumption/blob/master/Readme.md) section of the Github page to this project. The features have also been described sequentially as [EDA]('EDA.ipynb') was performed on each variable in the EDA notebook."
   ]
  },
  {
   "cell_type": "code",
   "execution_count": 1,
   "metadata": {},
   "outputs": [],
   "source": [
    "# Importing necessary libraries\n",
    "import pandas as pd\n",
    "import numpy as np\n",
    "import matplotlib.pyplot as plt\n",
    "%matplotlib inline\n",
    "import seaborn as sns\n",
    "\n",
    "from sklearn.model_selection import train_test_split\n",
    "from sklearn.feature_selection import SelectKBest, f_classif\n",
    "\n",
    "from sklearn.preprocessing import MinMaxScaler\n",
    "from sklearn import metrics\n",
    "from sklearn.neighbors import KNeighborsClassifier\n",
    "from sklearn.model_selection import GridSearchCV\n",
    "\n",
    "\n",
    "from sklearn.metrics import classification_report,confusion_matrix\n",
    "from sklearn.metrics import ConfusionMatrixDisplay"
   ]
  },
  {
   "cell_type": "code",
   "execution_count": 3,
   "metadata": {},
   "outputs": [],
   "source": [
    "df = pd.read_csv('preprocessing_file.csv')"
   ]
  },
  {
   "cell_type": "code",
   "execution_count": 4,
   "metadata": {},
   "outputs": [
    {
     "data": {
      "text/html": [
       "<div>\n",
       "<style scoped>\n",
       "    .dataframe tbody tr th:only-of-type {\n",
       "        vertical-align: middle;\n",
       "    }\n",
       "\n",
       "    .dataframe tbody tr th {\n",
       "        vertical-align: top;\n",
       "    }\n",
       "\n",
       "    .dataframe thead th {\n",
       "        text-align: right;\n",
       "    }\n",
       "</style>\n",
       "<table border=\"1\" class=\"dataframe\">\n",
       "  <thead>\n",
       "    <tr style=\"text-align: right;\">\n",
       "      <th></th>\n",
       "      <th>school</th>\n",
       "      <th>sex</th>\n",
       "      <th>age</th>\n",
       "      <th>address</th>\n",
       "      <th>Pstatus</th>\n",
       "      <th>paid</th>\n",
       "      <th>activities</th>\n",
       "      <th>nursery</th>\n",
       "      <th>internet</th>\n",
       "      <th>romantic</th>\n",
       "      <th>absences</th>\n",
       "      <th>alc</th>\n",
       "      <th>stability</th>\n",
       "      <th>academic_support</th>\n",
       "      <th>idle</th>\n",
       "      <th>grade_avg</th>\n",
       "      <th>delinquency</th>\n",
       "      <th>Medu_1</th>\n",
       "      <th>Medu_2</th>\n",
       "      <th>Medu_3</th>\n",
       "      <th>Medu_4</th>\n",
       "      <th>Fedu_1</th>\n",
       "      <th>Fedu_2</th>\n",
       "      <th>Fedu_3</th>\n",
       "      <th>Fedu_4</th>\n",
       "      <th>Mjob_2</th>\n",
       "      <th>Mjob_3</th>\n",
       "      <th>Mjob_4</th>\n",
       "      <th>Mjob_5</th>\n",
       "      <th>Fjob_2</th>\n",
       "      <th>Fjob_3</th>\n",
       "      <th>Fjob_4</th>\n",
       "      <th>Fjob_5</th>\n",
       "      <th>reason_2</th>\n",
       "      <th>reason_3</th>\n",
       "      <th>reason_4</th>\n",
       "      <th>guardian_2</th>\n",
       "      <th>guardian_3</th>\n",
       "      <th>traveltime_2</th>\n",
       "      <th>traveltime_3</th>\n",
       "      <th>traveltime_4</th>\n",
       "      <th>studytime_2</th>\n",
       "      <th>studytime_3</th>\n",
       "      <th>studytime_4</th>\n",
       "      <th>failures_1</th>\n",
       "      <th>failures_2</th>\n",
       "      <th>failures_3</th>\n",
       "      <th>health_2</th>\n",
       "      <th>health_3</th>\n",
       "      <th>health_4</th>\n",
       "      <th>health_5</th>\n",
       "    </tr>\n",
       "  </thead>\n",
       "  <tbody>\n",
       "    <tr>\n",
       "      <th>0</th>\n",
       "      <td>1</td>\n",
       "      <td>1</td>\n",
       "      <td>18</td>\n",
       "      <td>0</td>\n",
       "      <td>0</td>\n",
       "      <td>0</td>\n",
       "      <td>0</td>\n",
       "      <td>1</td>\n",
       "      <td>0</td>\n",
       "      <td>0</td>\n",
       "      <td>4</td>\n",
       "      <td>0</td>\n",
       "      <td>4</td>\n",
       "      <td>2</td>\n",
       "      <td>12</td>\n",
       "      <td>7.33</td>\n",
       "      <td>0</td>\n",
       "      <td>0</td>\n",
       "      <td>0</td>\n",
       "      <td>0</td>\n",
       "      <td>1</td>\n",
       "      <td>0</td>\n",
       "      <td>0</td>\n",
       "      <td>0</td>\n",
       "      <td>1</td>\n",
       "      <td>0</td>\n",
       "      <td>0</td>\n",
       "      <td>0</td>\n",
       "      <td>0</td>\n",
       "      <td>0</td>\n",
       "      <td>1</td>\n",
       "      <td>0</td>\n",
       "      <td>0</td>\n",
       "      <td>0</td>\n",
       "      <td>1</td>\n",
       "      <td>0</td>\n",
       "      <td>1</td>\n",
       "      <td>0</td>\n",
       "      <td>1</td>\n",
       "      <td>0</td>\n",
       "      <td>0</td>\n",
       "      <td>1</td>\n",
       "      <td>0</td>\n",
       "      <td>0</td>\n",
       "      <td>0</td>\n",
       "      <td>0</td>\n",
       "      <td>0</td>\n",
       "      <td>0</td>\n",
       "      <td>1</td>\n",
       "      <td>0</td>\n",
       "      <td>0</td>\n",
       "    </tr>\n",
       "    <tr>\n",
       "      <th>1</th>\n",
       "      <td>1</td>\n",
       "      <td>1</td>\n",
       "      <td>17</td>\n",
       "      <td>0</td>\n",
       "      <td>1</td>\n",
       "      <td>0</td>\n",
       "      <td>0</td>\n",
       "      <td>0</td>\n",
       "      <td>1</td>\n",
       "      <td>0</td>\n",
       "      <td>2</td>\n",
       "      <td>0</td>\n",
       "      <td>5</td>\n",
       "      <td>2</td>\n",
       "      <td>9</td>\n",
       "      <td>10.33</td>\n",
       "      <td>0</td>\n",
       "      <td>1</td>\n",
       "      <td>0</td>\n",
       "      <td>0</td>\n",
       "      <td>0</td>\n",
       "      <td>1</td>\n",
       "      <td>0</td>\n",
       "      <td>0</td>\n",
       "      <td>0</td>\n",
       "      <td>0</td>\n",
       "      <td>0</td>\n",
       "      <td>0</td>\n",
       "      <td>0</td>\n",
       "      <td>0</td>\n",
       "      <td>0</td>\n",
       "      <td>0</td>\n",
       "      <td>1</td>\n",
       "      <td>0</td>\n",
       "      <td>1</td>\n",
       "      <td>0</td>\n",
       "      <td>0</td>\n",
       "      <td>0</td>\n",
       "      <td>0</td>\n",
       "      <td>0</td>\n",
       "      <td>0</td>\n",
       "      <td>1</td>\n",
       "      <td>0</td>\n",
       "      <td>0</td>\n",
       "      <td>0</td>\n",
       "      <td>0</td>\n",
       "      <td>0</td>\n",
       "      <td>0</td>\n",
       "      <td>1</td>\n",
       "      <td>0</td>\n",
       "      <td>0</td>\n",
       "    </tr>\n",
       "    <tr>\n",
       "      <th>2</th>\n",
       "      <td>1</td>\n",
       "      <td>1</td>\n",
       "      <td>15</td>\n",
       "      <td>0</td>\n",
       "      <td>1</td>\n",
       "      <td>0</td>\n",
       "      <td>0</td>\n",
       "      <td>1</td>\n",
       "      <td>1</td>\n",
       "      <td>0</td>\n",
       "      <td>6</td>\n",
       "      <td>0</td>\n",
       "      <td>0</td>\n",
       "      <td>2</td>\n",
       "      <td>6</td>\n",
       "      <td>12.33</td>\n",
       "      <td>0</td>\n",
       "      <td>1</td>\n",
       "      <td>0</td>\n",
       "      <td>0</td>\n",
       "      <td>0</td>\n",
       "      <td>1</td>\n",
       "      <td>0</td>\n",
       "      <td>0</td>\n",
       "      <td>0</td>\n",
       "      <td>0</td>\n",
       "      <td>0</td>\n",
       "      <td>0</td>\n",
       "      <td>0</td>\n",
       "      <td>0</td>\n",
       "      <td>0</td>\n",
       "      <td>0</td>\n",
       "      <td>1</td>\n",
       "      <td>0</td>\n",
       "      <td>0</td>\n",
       "      <td>1</td>\n",
       "      <td>1</td>\n",
       "      <td>0</td>\n",
       "      <td>0</td>\n",
       "      <td>0</td>\n",
       "      <td>0</td>\n",
       "      <td>1</td>\n",
       "      <td>0</td>\n",
       "      <td>0</td>\n",
       "      <td>0</td>\n",
       "      <td>0</td>\n",
       "      <td>0</td>\n",
       "      <td>0</td>\n",
       "      <td>1</td>\n",
       "      <td>0</td>\n",
       "      <td>0</td>\n",
       "    </tr>\n",
       "    <tr>\n",
       "      <th>3</th>\n",
       "      <td>1</td>\n",
       "      <td>1</td>\n",
       "      <td>15</td>\n",
       "      <td>0</td>\n",
       "      <td>1</td>\n",
       "      <td>0</td>\n",
       "      <td>1</td>\n",
       "      <td>1</td>\n",
       "      <td>1</td>\n",
       "      <td>1</td>\n",
       "      <td>0</td>\n",
       "      <td>0</td>\n",
       "      <td>3</td>\n",
       "      <td>2</td>\n",
       "      <td>4</td>\n",
       "      <td>14.00</td>\n",
       "      <td>0</td>\n",
       "      <td>0</td>\n",
       "      <td>0</td>\n",
       "      <td>0</td>\n",
       "      <td>1</td>\n",
       "      <td>0</td>\n",
       "      <td>1</td>\n",
       "      <td>0</td>\n",
       "      <td>0</td>\n",
       "      <td>0</td>\n",
       "      <td>0</td>\n",
       "      <td>1</td>\n",
       "      <td>0</td>\n",
       "      <td>1</td>\n",
       "      <td>0</td>\n",
       "      <td>0</td>\n",
       "      <td>0</td>\n",
       "      <td>0</td>\n",
       "      <td>0</td>\n",
       "      <td>0</td>\n",
       "      <td>1</td>\n",
       "      <td>0</td>\n",
       "      <td>0</td>\n",
       "      <td>0</td>\n",
       "      <td>0</td>\n",
       "      <td>0</td>\n",
       "      <td>1</td>\n",
       "      <td>0</td>\n",
       "      <td>0</td>\n",
       "      <td>0</td>\n",
       "      <td>0</td>\n",
       "      <td>0</td>\n",
       "      <td>0</td>\n",
       "      <td>0</td>\n",
       "      <td>1</td>\n",
       "    </tr>\n",
       "    <tr>\n",
       "      <th>4</th>\n",
       "      <td>1</td>\n",
       "      <td>1</td>\n",
       "      <td>16</td>\n",
       "      <td>0</td>\n",
       "      <td>1</td>\n",
       "      <td>0</td>\n",
       "      <td>0</td>\n",
       "      <td>1</td>\n",
       "      <td>0</td>\n",
       "      <td>0</td>\n",
       "      <td>0</td>\n",
       "      <td>0</td>\n",
       "      <td>4</td>\n",
       "      <td>2</td>\n",
       "      <td>6</td>\n",
       "      <td>12.33</td>\n",
       "      <td>0</td>\n",
       "      <td>0</td>\n",
       "      <td>0</td>\n",
       "      <td>1</td>\n",
       "      <td>0</td>\n",
       "      <td>0</td>\n",
       "      <td>0</td>\n",
       "      <td>1</td>\n",
       "      <td>0</td>\n",
       "      <td>0</td>\n",
       "      <td>0</td>\n",
       "      <td>0</td>\n",
       "      <td>1</td>\n",
       "      <td>0</td>\n",
       "      <td>0</td>\n",
       "      <td>0</td>\n",
       "      <td>1</td>\n",
       "      <td>0</td>\n",
       "      <td>0</td>\n",
       "      <td>0</td>\n",
       "      <td>0</td>\n",
       "      <td>0</td>\n",
       "      <td>0</td>\n",
       "      <td>0</td>\n",
       "      <td>0</td>\n",
       "      <td>1</td>\n",
       "      <td>0</td>\n",
       "      <td>0</td>\n",
       "      <td>0</td>\n",
       "      <td>0</td>\n",
       "      <td>0</td>\n",
       "      <td>0</td>\n",
       "      <td>0</td>\n",
       "      <td>0</td>\n",
       "      <td>1</td>\n",
       "    </tr>\n",
       "  </tbody>\n",
       "</table>\n",
       "</div>"
      ],
      "text/plain": [
       "   school  sex  age  address  Pstatus  paid  activities  nursery  internet  \\\n",
       "0       1    1   18        0        0     0           0        1         0   \n",
       "1       1    1   17        0        1     0           0        0         1   \n",
       "2       1    1   15        0        1     0           0        1         1   \n",
       "3       1    1   15        0        1     0           1        1         1   \n",
       "4       1    1   16        0        1     0           0        1         0   \n",
       "\n",
       "   romantic  absences  alc  stability  academic_support  idle  grade_avg  \\\n",
       "0         0         4    0          4                 2    12       7.33   \n",
       "1         0         2    0          5                 2     9      10.33   \n",
       "2         0         6    0          0                 2     6      12.33   \n",
       "3         1         0    0          3                 2     4      14.00   \n",
       "4         0         0    0          4                 2     6      12.33   \n",
       "\n",
       "   delinquency  Medu_1  Medu_2  Medu_3  Medu_4  Fedu_1  Fedu_2  Fedu_3  \\\n",
       "0            0       0       0       0       1       0       0       0   \n",
       "1            0       1       0       0       0       1       0       0   \n",
       "2            0       1       0       0       0       1       0       0   \n",
       "3            0       0       0       0       1       0       1       0   \n",
       "4            0       0       0       1       0       0       0       1   \n",
       "\n",
       "   Fedu_4  Mjob_2  Mjob_3  Mjob_4  Mjob_5  Fjob_2  Fjob_3  Fjob_4  Fjob_5  \\\n",
       "0       1       0       0       0       0       0       1       0       0   \n",
       "1       0       0       0       0       0       0       0       0       1   \n",
       "2       0       0       0       0       0       0       0       0       1   \n",
       "3       0       0       0       1       0       1       0       0       0   \n",
       "4       0       0       0       0       1       0       0       0       1   \n",
       "\n",
       "   reason_2  reason_3  reason_4  guardian_2  guardian_3  traveltime_2  \\\n",
       "0         0         1         0           1           0             1   \n",
       "1         0         1         0           0           0             0   \n",
       "2         0         0         1           1           0             0   \n",
       "3         0         0         0           1           0             0   \n",
       "4         0         0         0           0           0             0   \n",
       "\n",
       "   traveltime_3  traveltime_4  studytime_2  studytime_3  studytime_4  \\\n",
       "0             0             0            1            0            0   \n",
       "1             0             0            1            0            0   \n",
       "2             0             0            1            0            0   \n",
       "3             0             0            0            1            0   \n",
       "4             0             0            1            0            0   \n",
       "\n",
       "   failures_1  failures_2  failures_3  health_2  health_3  health_4  health_5  \n",
       "0           0           0           0         0         1         0         0  \n",
       "1           0           0           0         0         1         0         0  \n",
       "2           0           0           0         0         1         0         0  \n",
       "3           0           0           0         0         0         0         1  \n",
       "4           0           0           0         0         0         0         1  "
      ]
     },
     "execution_count": 4,
     "metadata": {},
     "output_type": "execute_result"
    }
   ],
   "source": [
    "pd.set_option(\"display.max_columns\",None)\n",
    "df.head()"
   ]
  },
  {
   "cell_type": "markdown",
   "metadata": {},
   "source": [
    "### Train Test Split"
   ]
  },
  {
   "cell_type": "code",
   "execution_count": 5,
   "metadata": {},
   "outputs": [
    {
     "name": "stdout",
     "output_type": "stream",
     "text": [
      "Training set - Features:  (519, 50) Target:  (519,)\n",
      "Test set - Features:  (130, 50) Target:  (130,)\n",
      "0    0.820809\n",
      "1    0.179191\n",
      "Name: alc, dtype: float64\n",
      "0    0.792308\n",
      "1    0.207692\n",
      "Name: alc, dtype: float64\n"
     ]
    }
   ],
   "source": [
    "X = df.drop(columns = ['alc'], axis = 1) \n",
    "y = df['alc']\n",
    "X_train, X_test, y_train, y_test = train_test_split(X, y, random_state=150, test_size=0.2)\n",
    "\n",
    "print(\"Training set - Features: \", X_train.shape, \"Target: \", y_train.shape,)\n",
    "print(\"Test set - Features: \", X_test.shape, \"Target: \",y_test.shape,)\n",
    "print(y_train.value_counts(normalize = True))\n",
    "print(y_test.value_counts(normalize = True))"
   ]
  },
  {
   "cell_type": "markdown",
   "metadata": {},
   "source": [
    "### Handling Class Imbalance - with Oversampling minority class"
   ]
  },
  {
   "cell_type": "markdown",
   "metadata": {},
   "source": [
    "### Upsampling Minority"
   ]
  },
  {
   "cell_type": "code",
   "execution_count": 6,
   "metadata": {},
   "outputs": [],
   "source": [
    "training  = pd.concat([X_train, y_train], axis=1)"
   ]
  },
  {
   "cell_type": "code",
   "execution_count": 7,
   "metadata": {},
   "outputs": [
    {
     "name": "stdout",
     "output_type": "stream",
     "text": [
      "light drinker count: 426\n",
      "heavy drinker count: 93\n"
     ]
    }
   ],
   "source": [
    "\n",
    "light_drinker = training[training.alc==0]\n",
    "heavy_drinker = training[training.alc==1]\n",
    "\n",
    "print('light drinker count: '+ str(len(light_drinker)))\n",
    "print('heavy drinker count: '+ str(len(heavy_drinker)))"
   ]
  },
  {
   "cell_type": "code",
   "execution_count": 8,
   "metadata": {},
   "outputs": [],
   "source": [
    "from sklearn.utils import resample"
   ]
  },
  {
   "cell_type": "code",
   "execution_count": 9,
   "metadata": {},
   "outputs": [
    {
     "data": {
      "text/plain": [
       "(426, 51)"
      ]
     },
     "execution_count": 9,
     "metadata": {},
     "output_type": "execute_result"
    }
   ],
   "source": [
    "heavy_drinker_upsampled = resample(heavy_drinker,\n",
    "                          replace=True, # sample with replacement\n",
    "                          n_samples=len(light_drinker), # match number in majority class\n",
    "                          random_state=23) # reproducible results\n",
    "heavy_drinker_upsampled.shape"
   ]
  },
  {
   "cell_type": "code",
   "execution_count": 10,
   "metadata": {},
   "outputs": [
    {
     "data": {
      "text/plain": [
       "0    426\n",
       "1    426\n",
       "Name: alc, dtype: int64"
      ]
     },
     "execution_count": 10,
     "metadata": {},
     "output_type": "execute_result"
    }
   ],
   "source": [
    "upsampled = pd.concat([light_drinker, heavy_drinker_upsampled])\n",
    "upsampled.alc.value_counts()"
   ]
  },
  {
   "cell_type": "code",
   "execution_count": 12,
   "metadata": {},
   "outputs": [
    {
     "name": "stdout",
     "output_type": "stream",
     "text": [
      "(852, 50)\n"
     ]
    }
   ],
   "source": [
    "\n",
    "y_train_up = upsampled.alc\n",
    "X_train_up = upsampled.drop(columns = 'alc', axis=1)\n",
    "print(X_train_up.shape)\n"
   ]
  },
  {
   "cell_type": "markdown",
   "metadata": {},
   "source": [
    "**Scaling**"
   ]
  },
  {
   "cell_type": "code",
   "execution_count": 21,
   "metadata": {},
   "outputs": [],
   "source": [
    "scaler= MinMaxScaler()  \n",
    "scaler.fit(X_train_up)\n",
    "\n",
    "X_train_scaleu = scaler.transform(X_train_up)  \n",
    "X_test_scale = scaler.transform(X_test)\n",
    "\n",
    "scaler1= MinMaxScaler()  \n",
    "scaler1.fit(X_train)\n",
    "\n",
    "X_train_scaleI = scaler1.transform(X_train)  "
   ]
  },
  {
   "cell_type": "markdown",
   "metadata": {},
   "source": [
    "# Feature Selection"
   ]
  },
  {
   "cell_type": "markdown",
   "metadata": {},
   "source": [
    "### Select Kbest 10"
   ]
  },
  {
   "cell_type": "code",
   "execution_count": 22,
   "metadata": {},
   "outputs": [
    {
     "name": "stdout",
     "output_type": "stream",
     "text": [
      "(852, 10) (130, 10)\n"
     ]
    }
   ],
   "source": [
    "\n",
    "selector = SelectKBest(f_classif, k=10) \n",
    "selector.fit(X_train_up, y_train_up)\n",
    "\n",
    "selected_columns = X_train_up.columns[selector.get_support()]\n",
    "\n",
    "X_train_kb10 = X_train_up[selected_columns]\n",
    "X_test_kb10 = X_test[selected_columns]\n",
    "print(X_train_kb10.shape, X_test_kb10.shape)\n"
   ]
  },
  {
   "cell_type": "markdown",
   "metadata": {},
   "source": [
    "### Select Kbest 15"
   ]
  },
  {
   "cell_type": "code",
   "execution_count": 23,
   "metadata": {},
   "outputs": [],
   "source": [
    "\n",
    "selector = SelectKBest(f_classif, k=15) \n",
    "selector.fit(X_train_up, y_train_up)\n",
    "\n",
    "selected_columns = X_train_up.columns[selector.get_support()]\n",
    "removed_columns = X_train_up.columns[~selector.get_support()]\n",
    "\n",
    "X_train_kb15 = X_train_up[selected_columns]\n",
    "X_test_kb15 = X_test[selected_columns]"
   ]
  },
  {
   "cell_type": "markdown",
   "metadata": {},
   "source": [
    "### Select Kbest 20"
   ]
  },
  {
   "cell_type": "code",
   "execution_count": 24,
   "metadata": {},
   "outputs": [],
   "source": [
    "\n",
    "selector = SelectKBest(f_classif, k=20) \n",
    "selector.fit(X_train_up, y_train_up)\n",
    "\n",
    "selected_columns = X_train_up.columns[selector.get_support()]\n",
    "removed_columns = X_train_up.columns[~selector.get_support()]\n",
    "\n",
    "X_train_kb20 = X_train_up[selected_columns]\n",
    "X_test_kb20 = X_test[selected_columns]"
   ]
  },
  {
   "cell_type": "markdown",
   "metadata": {},
   "source": [
    "### Select Kbest 25"
   ]
  },
  {
   "cell_type": "code",
   "execution_count": 25,
   "metadata": {},
   "outputs": [],
   "source": [
    "\n",
    "selector = SelectKBest(f_classif, k=25)\n",
    "selector.fit(X_train_up, y_train_up)\n",
    "\n",
    "selected_columns = X_train_up.columns[selector.get_support()]\n",
    "removed_columns = X_train_up.columns[~selector.get_support()]\n",
    "\n",
    "X_train_kb25 = X_train_up[selected_columns]\n",
    "X_test_kb25 = X_test[selected_columns]"
   ]
  },
  {
   "cell_type": "markdown",
   "metadata": {},
   "source": [
    "### Select Kbest 30"
   ]
  },
  {
   "cell_type": "code",
   "execution_count": 26,
   "metadata": {},
   "outputs": [],
   "source": [
    "\n",
    "selector = SelectKBest(f_classif, k=30)\n",
    "selector.fit(X_train_up, y_train_up)\n",
    "\n",
    "selected_columns = X_train_up.columns[selector.get_support()]\n",
    "removed_columns = X_train_up.columns[~selector.get_support()]\n",
    "\n",
    "X_train_kb30 = X_train_up[selected_columns]\n",
    "X_test_kb30 = X_test[selected_columns]"
   ]
  },
  {
   "cell_type": "markdown",
   "metadata": {},
   "source": [
    "### Select Kbest 35"
   ]
  },
  {
   "cell_type": "code",
   "execution_count": 27,
   "metadata": {},
   "outputs": [],
   "source": [
    "\n",
    "selector = SelectKBest(f_classif, k=35) \n",
    "selector.fit(X_train_up, y_train_up)\n",
    "\n",
    "selected_columns = X_train_up.columns[selector.get_support()]\n",
    "removed_columns = X_train_up.columns[~selector.get_support()]\n",
    "\n",
    "X_train_kb35 = X_train_up[selected_columns]\n",
    "X_test_kb35 = X_test[selected_columns]"
   ]
  },
  {
   "cell_type": "markdown",
   "metadata": {},
   "source": [
    "# Models"
   ]
  },
  {
   "cell_type": "markdown",
   "metadata": {},
   "source": [
    "Our target variable in this project, tells whether a student is a heavy alcohol drinker or not. Our main concern here becomes that we do not want to predict that a student is not a heavy drinker when they actually are. Thus, we are interested in minimizing chances of any False Negatives. Correctly, identifying student has a problem allows us to appropriately allocate help or resources to ameliorate conditions for that student/s to minimize any drinking problem. \n",
    "\n",
    "Thus, our focus will be on the recall score or sensitivity score that tells us the proportion of actual positives identified correctly, given by (TP/(TP+FN). The higher this score, the better. \n",
    "\n",
    "We also looked at the Accuracy score and the F1 scores as extra metrics to compare model performance on."
   ]
  },
  {
   "cell_type": "markdown",
   "metadata": {},
   "source": [
    "###  KNN"
   ]
  },
  {
   "cell_type": "code",
   "execution_count": 28,
   "metadata": {},
   "outputs": [],
   "source": [
    "results = {}"
   ]
  },
  {
   "cell_type": "markdown",
   "metadata": {},
   "source": [
    "**knn for scaled upbalence data**\n",
    "***Optimal K for KNN***"
   ]
  },
  {
   "cell_type": "code",
   "execution_count": 55,
   "metadata": {},
   "outputs": [
    {
     "data": {
      "text/plain": [
       "Text(0, 0.5, 'Error')"
      ]
     },
     "execution_count": 55,
     "metadata": {},
     "output_type": "execute_result"
    },
    {
     "data": {
      "image/png": "[encoded data removed]",
      "text/plain": [
       "<Figure size 1000x500 with 1 Axes>"
      ]
     },
     "metadata": {},
     "output_type": "display_data"
    }
   ],
   "source": [
    "from sklearn.neighbors import KNeighborsClassifier\n",
    "error = []\n",
    "k=[]\n",
    "i=1\n",
    "while(i<30):\n",
    "    knn = KNeighborsClassifier(n_neighbors=i)\n",
    "    knn.fit(X_train_scaleu,y_train_up)\n",
    "    pred_i = knn.predict(X_test_scale)\n",
    "    error.append(np.mean(pred_i != y_test))\n",
    "    k.append(i)\n",
    "    i=i+2\n",
    "plt.figure(figsize=(10,5))\n",
    "plt.plot(k,error,color='orange', linestyle='dotted', marker='*', markerfacecolor='red', markersize=15)\n",
    "plt.title('Error vs. K Value')\n",
    "plt.xlabel('K')\n",
    "plt.ylabel('Error')\n"
   ]
  },
  {
   "cell_type": "code",
   "execution_count": 56,
   "metadata": {},
   "outputs": [
    {
     "name": "stdout",
     "output_type": "stream",
     "text": [
      "when K=1\n",
      "\n",
      "[[93 10]\n",
      " [20  7]]\n",
      "\n",
      "\n",
      "classification Report\n",
      "\n",
      "              precision    recall  f1-score   support\n",
      "\n",
      "           0       0.82      0.90      0.86       103\n",
      "           1       0.41      0.26      0.32        27\n",
      "\n",
      "    accuracy                           0.77       130\n",
      "   macro avg       0.62      0.58      0.59       130\n",
      "weighted avg       0.74      0.77      0.75       130\n",
      "\n"
     ]
    }
   ],
   "source": [
    "\n",
    "\n",
    "knn = KNeighborsClassifier(n_neighbors=1)\n",
    "\n",
    "knn.fit(X_train_scaleu,y_train_up)\n",
    "p = knn.predict(X_test_scale)\n",
    "\n",
    "print('when K=1\\n')\n",
    "print(confusion_matrix(y_test,p))\n",
    "print('\\n\\nclassification Report\\n')\n",
    "print(classification_report(y_test,p))\n"
   ]
  },
  {
   "cell_type": "code",
   "execution_count": 57,
   "metadata": {},
   "outputs": [
    {
     "data": {
      "text/plain": [
       "{'1.knn_upscaled': (0.7692, 0.3182, 0.2593),\n",
       " '2.knn_imbscaled': (0.8, 0.037, 0.037),\n",
       " '3.knn_kb10': (0.7385, 0.4688, 0.5556),\n",
       " '4.knn_kb15': (0.7077, 0.4412, 0.5556),\n",
       " '5.knn_kb20': (0.7769, 0.2564, 0.1852),\n",
       " '6.knn_kb25': (0.7538, 0.3846, 0.3704),\n",
       " '7.knn_kb30': (0.7615, 0.2222, 0.2222),\n",
       " '8.knn_kb35': (0.7615, 0.2791, 0.2222)}"
      ]
     },
     "execution_count": 57,
     "metadata": {},
     "output_type": "execute_result"
    }
   ],
   "source": [
    "results['1.knn_upscaled'] = (round(metrics.accuracy_score(y_test, p),4), \n",
    "                              round(metrics.f1_score(y_test,p),4),\n",
    "                          round(metrics.recall_score(y_test, p),4))\n",
    "results"
   ]
  },
  {
   "cell_type": "markdown",
   "metadata": {},
   "source": [
    "**2.knn for scaled imbalence data**"
   ]
  },
  {
   "cell_type": "code",
   "execution_count": 58,
   "metadata": {},
   "outputs": [
    {
     "data": {
      "text/plain": [
       "Text(0, 0.5, 'Error')"
      ]
     },
     "execution_count": 58,
     "metadata": {},
     "output_type": "execute_result"
    },
    {
     "data": {
      "image/png": "[encoded data removed]",
      "text/plain": [
       "<Figure size 1000x500 with 1 Axes>"
      ]
     },
     "metadata": {},
     "output_type": "display_data"
    }
   ],
   "source": [
    "#knn2.fit(X_train_scaleI, y_train)\n",
    "#y_pred= knn2.predict(X_test_scale)\n",
    "\n",
    "from sklearn.neighbors import KNeighborsClassifier\n",
    "error = []\n",
    "k=[]\n",
    "i=1\n",
    "while(i<30):\n",
    "    knn2 = KNeighborsClassifier(n_neighbors=i)\n",
    "    knn2.fit(X_train_scaleI, y_train)\n",
    "    pred_i = knn2.predict(X_test_scale)\n",
    "    error.append(np.mean(pred_i != y_test))\n",
    "    k.append(i)\n",
    "    i=i+2\n",
    "plt.figure(figsize=(10,5))\n",
    "plt.plot(k,error,color='orange', linestyle='dotted', marker='*', markerfacecolor='red', markersize=15)\n",
    "plt.title('Error vs. K Value')\n",
    "plt.xlabel('K')\n",
    "plt.ylabel('Error')\n",
    "\n",
    "    "
   ]
  },
  {
   "cell_type": "code",
   "execution_count": 59,
   "metadata": {},
   "outputs": [
    {
     "name": "stdout",
     "output_type": "stream",
     "text": [
      "when K=9\n",
      "\n",
      "[[103   0]\n",
      " [ 26   1]]\n",
      "\n",
      "\n",
      "classification Report\n",
      "\n",
      "              precision    recall  f1-score   support\n",
      "\n",
      "           0       0.80      1.00      0.89       103\n",
      "           1       1.00      0.04      0.07        27\n",
      "\n",
      "    accuracy                           0.80       130\n",
      "   macro avg       0.90      0.52      0.48       130\n",
      "weighted avg       0.84      0.80      0.72       130\n",
      "\n"
     ]
    }
   ],
   "source": [
    "\n",
    "\n",
    "\n",
    "knn2 = KNeighborsClassifier(n_neighbors=9)\n",
    "\n",
    "knn2.fit(X_train_scaleI,y_train)\n",
    "p = knn2.predict(X_test_scale)\n",
    "\n",
    "print('when K=9\\n')\n",
    "print(confusion_matrix(y_test,p))\n",
    "print('\\n\\nclassification Report\\n')\n",
    "print(classification_report(y_test,p))\n",
    "\n",
    "\n",
    "\n"
   ]
  },
  {
   "cell_type": "code",
   "execution_count": 60,
   "metadata": {},
   "outputs": [
    {
     "data": {
      "text/plain": [
       "{'1.knn_upscaled': (0.7692, 0.3182, 0.2593),\n",
       " '2.knn_imbscaled': (0.8, 0.037, 0.037),\n",
       " '3.knn_kb10': (0.7385, 0.4688, 0.5556),\n",
       " '4.knn_kb15': (0.7077, 0.4412, 0.5556),\n",
       " '5.knn_kb20': (0.7769, 0.2564, 0.1852),\n",
       " '6.knn_kb25': (0.7538, 0.3846, 0.3704),\n",
       " '7.knn_kb30': (0.7615, 0.2222, 0.2222),\n",
       " '8.knn_kb35': (0.7615, 0.2791, 0.2222)}"
      ]
     },
     "execution_count": 60,
     "metadata": {},
     "output_type": "execute_result"
    }
   ],
   "source": [
    "results['2.knn_imbscaled'] = (round(metrics.accuracy_score(y_test, p),4), \n",
    "                             round(metrics.recall_score(y_test, p),4),\n",
    "                            round(metrics.recall_score(y_test, p),4))\n",
    "results"
   ]
  },
  {
   "cell_type": "markdown",
   "metadata": {},
   "source": [
    "**3.KNN for the Kbest10**\n"
   ]
  },
  {
   "cell_type": "code",
   "execution_count": 61,
   "metadata": {},
   "outputs": [
    {
     "data": {
      "text/plain": [
       "Text(0, 0.5, 'Error')"
      ]
     },
     "execution_count": 61,
     "metadata": {},
     "output_type": "execute_result"
    },
    {
     "data": {
      "image/png": "[encoded data removed]",
      "text/plain": [
       "<Figure size 1000x500 with 1 Axes>"
      ]
     },
     "metadata": {},
     "output_type": "display_data"
    }
   ],
   "source": [
    "scaler1 = MinMaxScaler()  \n",
    "scaler1.fit(X_train_kb10)\n",
    "X_train_kb10scale = scaler1.transform(X_train_kb10) \n",
    "X_test_kb10scale = scaler1.transform(X_test_kb10) \n",
    "\n",
    "\n",
    "from sklearn.neighbors import KNeighborsClassifier\n",
    "error = []\n",
    "k=[]\n",
    "i=1\n",
    "while(i<30):\n",
    "    knn3 = KNeighborsClassifier(n_neighbors=i)\n",
    "    knn3.fit(X_train_kb10scale, y_train_up)\n",
    "    pred_i = knn3.predict(X_test_kb10scale)\n",
    "    error.append(np.mean(pred_i != y_test))\n",
    "    k.append(i)\n",
    "    i=i+2\n",
    "plt.figure(figsize=(10,5))\n",
    "plt.plot(k,error,color='orange', linestyle='dotted', marker='*', markerfacecolor='red', markersize=15)\n",
    "plt.title('Error vs. K Value')\n",
    "plt.xlabel('K')\n",
    "plt.ylabel('Error')\n",
    "\n",
    "    \n",
    "\n"
   ]
  },
  {
   "cell_type": "code",
   "execution_count": 62,
   "metadata": {},
   "outputs": [
    {
     "name": "stdout",
     "output_type": "stream",
     "text": [
      "when K=25\n",
      "\n",
      "[[86 17]\n",
      " [11 16]]\n",
      "\n",
      "\n",
      "classification Report\n",
      "\n",
      "              precision    recall  f1-score   support\n",
      "\n",
      "           0       0.89      0.83      0.86       103\n",
      "           1       0.48      0.59      0.53        27\n",
      "\n",
      "    accuracy                           0.78       130\n",
      "   macro avg       0.69      0.71      0.70       130\n",
      "weighted avg       0.80      0.78      0.79       130\n",
      "\n"
     ]
    }
   ],
   "source": [
    "\n",
    "\n",
    "knn3 = KNeighborsClassifier(n_neighbors=25)\n",
    "\n",
    "knn3.fit(X_train_kb10scale, y_train_up)\n",
    "p = knn3.predict(X_test_kb10scale)\n",
    "\n",
    "print('when K=25\\n')\n",
    "print(confusion_matrix(y_test,p))\n",
    "print('\\n\\nclassification Report\\n')\n",
    "print(classification_report(y_test,p))"
   ]
  },
  {
   "cell_type": "code",
   "execution_count": 63,
   "metadata": {},
   "outputs": [
    {
     "data": {
      "text/plain": [
       "{'1.knn_upscaled': (0.7692, 0.3182, 0.2593),\n",
       " '2.knn_imbscaled': (0.8, 0.037, 0.037),\n",
       " '3.knn_kb10': (0.7846, 0.5333, 0.5926),\n",
       " '4.knn_kb15': (0.7077, 0.4412, 0.5556),\n",
       " '5.knn_kb20': (0.7769, 0.2564, 0.1852),\n",
       " '6.knn_kb25': (0.7538, 0.3846, 0.3704),\n",
       " '7.knn_kb30': (0.7615, 0.2222, 0.2222),\n",
       " '8.knn_kb35': (0.7615, 0.2791, 0.2222)}"
      ]
     },
     "execution_count": 63,
     "metadata": {},
     "output_type": "execute_result"
    }
   ],
   "source": [
    "results['3.knn_kb10'] = (round(metrics.accuracy_score(y_test, p),4), \n",
    "                             round(metrics.f1_score(y_test, p),4),\n",
    "                            round(metrics.recall_score(y_test, p),4))\n",
    "results\n"
   ]
  },
  {
   "cell_type": "markdown",
   "metadata": {},
   "source": [
    "**4.KNN for the Kbest15**"
   ]
  },
  {
   "cell_type": "code",
   "execution_count": 64,
   "metadata": {},
   "outputs": [
    {
     "data": {
      "text/plain": [
       "Text(0, 0.5, 'Error')"
      ]
     },
     "execution_count": 64,
     "metadata": {},
     "output_type": "execute_result"
    },
    {
     "data": {
      "image/png": "[encoded data removed]",
      "text/plain": [
       "<Figure size 1000x500 with 1 Axes>"
      ]
     },
     "metadata": {},
     "output_type": "display_data"
    }
   ],
   "source": [
    "scaler2 = MinMaxScaler()  \n",
    "scaler2.fit(X_train_kb15)\n",
    "X_train_kb15scale = scaler2.transform(X_train_kb15) \n",
    "X_test_kb15scale = scaler2.transform(X_test_kb15) \n",
    "\n",
    "\n",
    "from sklearn.neighbors import KNeighborsClassifier\n",
    "error = []\n",
    "k=[]\n",
    "i=1\n",
    "while(i<30):\n",
    "    knn4 = KNeighborsClassifier(n_neighbors=i)\n",
    "    knn4.fit(X_train_kb15scale, y_train_up)\n",
    "    pred_i = knn4.predict(X_test_kb15scale)\n",
    "    error.append(np.mean(pred_i != y_test))\n",
    "    k.append(i)\n",
    "    i=i+2\n",
    "plt.figure(figsize=(10,5))\n",
    "plt.plot(k,error,color='orange', linestyle='dotted', marker='*', markerfacecolor='red', markersize=15)\n",
    "plt.title('Error vs. K Value')\n",
    "plt.xlabel('K')\n",
    "plt.ylabel('Error')\n",
    "\n",
    "\n"
   ]
  },
  {
   "cell_type": "code",
   "execution_count": 65,
   "metadata": {},
   "outputs": [
    {
     "name": "stdout",
     "output_type": "stream",
     "text": [
      "when K=1\n",
      "\n",
      "[[96  7]\n",
      " [20  7]]\n",
      "\n",
      "\n",
      "classification Report\n",
      "\n",
      "              precision    recall  f1-score   support\n",
      "\n",
      "           0       0.83      0.93      0.88       103\n",
      "           1       0.50      0.26      0.34        27\n",
      "\n",
      "    accuracy                           0.79       130\n",
      "   macro avg       0.66      0.60      0.61       130\n",
      "weighted avg       0.76      0.79      0.77       130\n",
      "\n"
     ]
    }
   ],
   "source": [
    "knn4 = KNeighborsClassifier(n_neighbors=1)\n",
    "\n",
    "knn4.fit(X_train_kb15scale, y_train_up)\n",
    "p = knn4.predict(X_test_kb15scale)\n",
    "\n",
    "print('when K=1\\n')\n",
    "print(confusion_matrix(y_test,p))\n",
    "print('\\n\\nclassification Report\\n')\n",
    "print(classification_report(y_test,p))"
   ]
  },
  {
   "cell_type": "code",
   "execution_count": 66,
   "metadata": {},
   "outputs": [
    {
     "data": {
      "text/plain": [
       "{'1.knn_upscaled': (0.7692, 0.3182, 0.2593),\n",
       " '2.knn_imbscaled': (0.8, 0.037, 0.037),\n",
       " '3.knn_kb10': (0.7846, 0.5333, 0.5926),\n",
       " '4.knn_kb15': (0.7923, 0.3415, 0.2593),\n",
       " '5.knn_kb20': (0.7769, 0.2564, 0.1852),\n",
       " '6.knn_kb25': (0.7538, 0.3846, 0.3704),\n",
       " '7.knn_kb30': (0.7615, 0.2222, 0.2222),\n",
       " '8.knn_kb35': (0.7615, 0.2791, 0.2222)}"
      ]
     },
     "execution_count": 66,
     "metadata": {},
     "output_type": "execute_result"
    }
   ],
   "source": [
    "results['4.knn_kb15'] = (round(metrics.accuracy_score(y_test, p),4), \n",
    "                             round(metrics.f1_score(y_test, p),4),\n",
    "                            round(metrics.recall_score(y_test, p),4))\n",
    "\n",
    "results\n"
   ]
  },
  {
   "cell_type": "code",
   "execution_count": null,
   "metadata": {},
   "outputs": [],
   "source": []
  },
  {
   "cell_type": "markdown",
   "metadata": {},
   "source": [
    "**5.KNN for the Kbest20**"
   ]
  },
  {
   "cell_type": "code",
   "execution_count": 67,
   "metadata": {},
   "outputs": [
    {
     "data": {
      "text/plain": [
       "Text(0, 0.5, 'Error')"
      ]
     },
     "execution_count": 67,
     "metadata": {},
     "output_type": "execute_result"
    },
    {
     "data": {
      "image/png": "[encoded data removed]",
      "text/plain": [
       "<Figure size 1000x500 with 1 Axes>"
      ]
     },
     "metadata": {},
     "output_type": "display_data"
    }
   ],
   "source": [
    "scaler3 = MinMaxScaler()  \n",
    "scaler3.fit(X_train_kb20)\n",
    "X_train_kb20scale = scaler3.transform(X_train_kb20) \n",
    "X_test_kb20scale = scaler3.transform(X_test_kb20) \n",
    "\n",
    "\n",
    "from sklearn.neighbors import KNeighborsClassifier\n",
    "error = []\n",
    "k=[]\n",
    "i=1\n",
    "while(i<30):\n",
    "        knn5 = KNeighborsClassifier(n_neighbors=i)\n",
    "        knn5.fit(X_train_kb20scale, y_train_up)\n",
    "        pred_i = knn5.predict(X_test_kb20scale)\n",
    "        error.append(np.mean(pred_i != y_test))\n",
    "        k.append(i)\n",
    "        i=i+2\n",
    "    \n",
    "plt.figure(figsize=(10,5))\n",
    "plt.plot(k,error,color='orange', linestyle='dotted', marker='*', markerfacecolor='red', markersize=15)\n",
    "plt.title('Error vs. K Value')\n",
    "plt.xlabel('K')\n",
    "plt.ylabel('Error')\n",
    "\n"
   ]
  },
  {
   "cell_type": "code",
   "execution_count": 68,
   "metadata": {},
   "outputs": [
    {
     "name": "stdout",
     "output_type": "stream",
     "text": [
      "when K=1\n",
      "\n",
      "[[96  7]\n",
      " [22  5]]\n",
      "\n",
      "\n",
      "classification Report\n",
      "\n",
      "              precision    recall  f1-score   support\n",
      "\n",
      "           0       0.81      0.93      0.87       103\n",
      "           1       0.42      0.19      0.26        27\n",
      "\n",
      "    accuracy                           0.78       130\n",
      "   macro avg       0.62      0.56      0.56       130\n",
      "weighted avg       0.73      0.78      0.74       130\n",
      "\n"
     ]
    }
   ],
   "source": [
    "knn5 = KNeighborsClassifier(n_neighbors=1)\n",
    "knn5.fit(X_train_kb20scale, y_train_up)\n",
    "p = knn5.predict(X_test_kb20scale)\n",
    "\n",
    "print('when K=1\\n')\n",
    "print(confusion_matrix(y_test,p))\n",
    "print('\\n\\nclassification Report\\n')\n",
    "print(classification_report(y_test,p))"
   ]
  },
  {
   "cell_type": "code",
   "execution_count": 69,
   "metadata": {},
   "outputs": [
    {
     "data": {
      "text/plain": [
       "{'1.knn_upscaled': (0.7692, 0.3182, 0.2593),\n",
       " '2.knn_imbscaled': (0.8, 0.037, 0.037),\n",
       " '3.knn_kb10': (0.7846, 0.5333, 0.5926),\n",
       " '4.knn_kb15': (0.7923, 0.3415, 0.2593),\n",
       " '5.knn_kb20': (0.7769, 0.2564, 0.1852),\n",
       " '6.knn_kb25': (0.7538, 0.3846, 0.3704),\n",
       " '7.knn_kb30': (0.7615, 0.2222, 0.2222),\n",
       " '8.knn_kb35': (0.7615, 0.2791, 0.2222)}"
      ]
     },
     "execution_count": 69,
     "metadata": {},
     "output_type": "execute_result"
    }
   ],
   "source": [
    "results['5.knn_kb20'] = (round(metrics.accuracy_score(y_test, p),4), \n",
    "                             round(metrics.f1_score(y_test, p),4),\n",
    "                            round(metrics.recall_score(y_test, p),4))\n",
    "results"
   ]
  },
  {
   "cell_type": "markdown",
   "metadata": {},
   "source": [
    "**6. KNN for the Kbest25**"
   ]
  },
  {
   "cell_type": "code",
   "execution_count": 70,
   "metadata": {},
   "outputs": [
    {
     "data": {
      "text/plain": [
       "Text(0, 0.5, 'Error')"
      ]
     },
     "execution_count": 70,
     "metadata": {},
     "output_type": "execute_result"
    },
    {
     "data": {
      "image/png": "[encoded data removed]",
      "text/plain": [
       "<Figure size 1000x500 with 1 Axes>"
      ]
     },
     "metadata": {},
     "output_type": "display_data"
    }
   ],
   "source": [
    "#Scaling upsampled data\n",
    "scaler4 = MinMaxScaler()  \n",
    "scaler4.fit(X_train_kb25)\n",
    "X_train_kb25scale = scaler4.transform(X_train_kb25) \n",
    "X_test_kb25scale = scaler4.transform(X_test_kb25) \n",
    "\n",
    "\n",
    "from sklearn.neighbors import KNeighborsClassifier\n",
    "error = []\n",
    "k=[]\n",
    "i=1\n",
    "while(i<30):\n",
    "        knn6 = KNeighborsClassifier(n_neighbors=i)\n",
    "        knn6.fit(X_train_kb25scale, y_train_up)\n",
    "        pred_i = knn6.predict(X_test_kb25scale)\n",
    "        error.append(np.mean(pred_i != y_test))\n",
    "        k.append(i)\n",
    "        i=i+2\n",
    "    \n",
    "plt.figure(figsize=(10,5))\n",
    "plt.plot(k,error,color='orange', linestyle='dotted', marker='*', markerfacecolor='red', markersize=15)\n",
    "plt.title('Error vs. K Value')\n",
    "plt.xlabel('K')\n",
    "plt.ylabel('Error')\n",
    "\n",
    "\n",
    "\n",
    "\n",
    "\n",
    "\n"
   ]
  },
  {
   "cell_type": "code",
   "execution_count": 71,
   "metadata": {},
   "outputs": [
    {
     "name": "stdout",
     "output_type": "stream",
     "text": [
      "when K=1\n",
      "\n",
      "[[97  6]\n",
      " [22  5]]\n",
      "\n",
      "\n",
      "classification Report\n",
      "\n",
      "              precision    recall  f1-score   support\n",
      "\n",
      "           0       0.82      0.94      0.87       103\n",
      "           1       0.45      0.19      0.26        27\n",
      "\n",
      "    accuracy                           0.78       130\n",
      "   macro avg       0.63      0.56      0.57       130\n",
      "weighted avg       0.74      0.78      0.75       130\n",
      "\n"
     ]
    }
   ],
   "source": [
    "knn6 = KNeighborsClassifier(n_neighbors=1)\n",
    "knn6.fit(X_train_kb25scale, y_train_up)\n",
    "p = knn6.predict(X_test_kb25scale)\n",
    "        \n",
    "print('when K=1\\n')\n",
    "print(confusion_matrix(y_test,p))\n",
    "print('\\n\\nclassification Report\\n')\n",
    "print(classification_report(y_test,p))"
   ]
  },
  {
   "cell_type": "code",
   "execution_count": 72,
   "metadata": {},
   "outputs": [
    {
     "data": {
      "text/plain": [
       "{'1.knn_upscaled': (0.7692, 0.3182, 0.2593),\n",
       " '2.knn_imbscaled': (0.8, 0.037, 0.037),\n",
       " '3.knn_kb10': (0.7846, 0.5333, 0.5926),\n",
       " '4.knn_kb15': (0.7923, 0.3415, 0.2593),\n",
       " '5.knn_kb20': (0.7769, 0.2564, 0.1852),\n",
       " '6.knn_kb25': (0.7846, 0.2632, 0.1852),\n",
       " '7.knn_kb30': (0.7615, 0.2222, 0.2222),\n",
       " '8.knn_kb35': (0.7615, 0.2791, 0.2222)}"
      ]
     },
     "execution_count": 72,
     "metadata": {},
     "output_type": "execute_result"
    }
   ],
   "source": [
    "results['6.knn_kb25'] = (round(metrics.accuracy_score(y_test,p),4), \n",
    "                             round(metrics.f1_score(y_test, p),4),\n",
    "                            round(metrics.recall_score(y_test, p),4))\n",
    "results"
   ]
  },
  {
   "cell_type": "code",
   "execution_count": 73,
   "metadata": {},
   "outputs": [
    {
     "data": {
      "image/png": "[encoded data removed]",
      "text/plain": [
       "<Figure size 640x480 with 2 Axes>"
      ]
     },
     "metadata": {},
     "output_type": "display_data"
    }
   ],
   "source": [
    "\n",
    "\n",
    "cm = confusion_matrix(y_test, p)\n",
    "\n",
    "cm_display = ConfusionMatrixDisplay(cm).plot()"
   ]
  },
  {
   "cell_type": "markdown",
   "metadata": {},
   "source": [
    "### 7. KNN for Kbest 30"
   ]
  },
  {
   "cell_type": "code",
   "execution_count": 74,
   "metadata": {},
   "outputs": [
    {
     "data": {
      "text/plain": [
       "Text(0, 0.5, 'Error')"
      ]
     },
     "execution_count": 74,
     "metadata": {},
     "output_type": "execute_result"
    },
    {
     "data": {
      "image/png": "[encoded data removed]",
      "text/plain": [
       "<Figure size 1000x500 with 1 Axes>"
      ]
     },
     "metadata": {},
     "output_type": "display_data"
    }
   ],
   "source": [
    "#Scaling upsampled data\n",
    "scaler5 = MinMaxScaler()  \n",
    "scaler5.fit(X_train_kb30)\n",
    "X_train_kb30scale = scaler5.transform(X_train_kb30)\n",
    "X_test_kb30scale = scaler5.transform(X_test_kb30) \n",
    "\n",
    "\n",
    "from sklearn.neighbors import KNeighborsClassifier\n",
    "error = []\n",
    "k=[]\n",
    "i=1\n",
    "while(i<30):\n",
    "        knn7 = KNeighborsClassifier(n_neighbors=i)\n",
    "        knn7.fit(X_train_kb30scale, y_train_up)\n",
    "        pred_i = knn7.predict(X_test_kb30scale)\n",
    "        error.append(np.mean(pred_i != y_test))\n",
    "        k.append(i)\n",
    "        i=i+2\n",
    "    \n",
    "plt.figure(figsize=(10,5))\n",
    "plt.plot(k,error,color='orange', linestyle='dotted', marker='*', markerfacecolor='red', markersize=15)\n",
    "plt.title('Error vs. K Value')\n",
    "plt.xlabel('K')\n",
    "plt.ylabel('Error')\n",
    "\n",
    "\n",
    "\n",
    "\n"
   ]
  },
  {
   "cell_type": "code",
   "execution_count": 75,
   "metadata": {},
   "outputs": [
    {
     "name": "stdout",
     "output_type": "stream",
     "text": [
      "when K=1\n",
      "\n",
      "[[93 10]\n",
      " [21  6]]\n",
      "\n",
      "\n",
      "classification Report\n",
      "\n",
      "              precision    recall  f1-score   support\n",
      "\n",
      "           0       0.82      0.90      0.86       103\n",
      "           1       0.38      0.22      0.28        27\n",
      "\n",
      "    accuracy                           0.76       130\n",
      "   macro avg       0.60      0.56      0.57       130\n",
      "weighted avg       0.72      0.76      0.74       130\n",
      "\n"
     ]
    }
   ],
   "source": [
    "knn7 = KNeighborsClassifier(n_neighbors=1)\n",
    "knn7.fit(X_train_kb30scale, y_train_up)\n",
    "p = knn7.predict(X_test_kb30scale)\n",
    "\n",
    "print('when K=1\\n')\n",
    "print(confusion_matrix(y_test,p))\n",
    "print('\\n\\nclassification Report\\n')\n",
    "print(classification_report(y_test,p))"
   ]
  },
  {
   "cell_type": "code",
   "execution_count": 76,
   "metadata": {},
   "outputs": [
    {
     "data": {
      "text/plain": [
       "{'1.knn_upscaled': (0.7692, 0.3182, 0.2593),\n",
       " '2.knn_imbscaled': (0.8, 0.037, 0.037),\n",
       " '3.knn_kb10': (0.7846, 0.5333, 0.5926),\n",
       " '4.knn_kb15': (0.7923, 0.3415, 0.2593),\n",
       " '5.knn_kb20': (0.7769, 0.2564, 0.1852),\n",
       " '6.knn_kb25': (0.7846, 0.2632, 0.1852),\n",
       " '7.knn_kb30': (0.7615, 0.2222, 0.2222),\n",
       " '8.knn_kb35': (0.7615, 0.2791, 0.2222)}"
      ]
     },
     "execution_count": 76,
     "metadata": {},
     "output_type": "execute_result"
    }
   ],
   "source": [
    "results['7.knn_kb30'] = (round(metrics.accuracy_score(y_test, p),4), \n",
    "                             round(metrics.recall_score(y_test, p),4),\n",
    "                            round(metrics.recall_score(y_test, p),4))\n",
    "results"
   ]
  },
  {
   "cell_type": "markdown",
   "metadata": {},
   "source": [
    "**KNN for the Kbest35**\n"
   ]
  },
  {
   "cell_type": "code",
   "execution_count": 77,
   "metadata": {},
   "outputs": [
    {
     "data": {
      "text/plain": [
       "Text(0, 0.5, 'Error')"
      ]
     },
     "execution_count": 77,
     "metadata": {},
     "output_type": "execute_result"
    },
    {
     "data": {
      "image/png": "[encoded data removed]",
      "text/plain": [
       "<Figure size 1000x500 with 1 Axes>"
      ]
     },
     "metadata": {},
     "output_type": "display_data"
    }
   ],
   "source": [
    "scaler6 = MinMaxScaler()  \n",
    "scaler6.fit(X_train_kb35)\n",
    "X_train_kb35scale = scaler6.transform(X_train_kb35) \n",
    "X_test_kb35scale = scaler6.transform(X_test_kb35) \n",
    "\n",
    "\n",
    "from sklearn.neighbors import KNeighborsClassifier\n",
    "error = []\n",
    "k=[]\n",
    "i=1\n",
    "while(i<30):\n",
    "        knn8 = KNeighborsClassifier(n_neighbors=i)\n",
    "        knn8.fit(X_train_kb35scale, y_train_up)\n",
    "        pred_i = knn8.predict(X_test_kb35scale)\n",
    "        error.append(np.mean(pred_i != y_test))\n",
    "        k.append(i)\n",
    "        i=i+2\n",
    "    \n",
    "plt.figure(figsize=(10,5))\n",
    "plt.plot(k,error,color='orange', linestyle='dotted', marker='*', markerfacecolor='red', markersize=15)\n",
    "plt.title('Error vs. K Value')\n",
    "plt.xlabel('K')\n",
    "plt.ylabel('Error')\n",
    "\n",
    "\n"
   ]
  },
  {
   "cell_type": "code",
   "execution_count": 78,
   "metadata": {},
   "outputs": [
    {
     "name": "stdout",
     "output_type": "stream",
     "text": [
      "when K=1\n",
      "\n",
      "[[93 10]\n",
      " [21  6]]\n",
      "\n",
      "\n",
      "classification Report\n",
      "\n",
      "              precision    recall  f1-score   support\n",
      "\n",
      "           0       0.82      0.90      0.86       103\n",
      "           1       0.38      0.22      0.28        27\n",
      "\n",
      "    accuracy                           0.76       130\n",
      "   macro avg       0.60      0.56      0.57       130\n",
      "weighted avg       0.72      0.76      0.74       130\n",
      "\n"
     ]
    }
   ],
   "source": [
    "knn8 = KNeighborsClassifier(n_neighbors=1)\n",
    "knn8.fit(X_train_kb35scale, y_train_up)\n",
    "pred_i = knn8.predict(X_test_kb35scale)\n",
    "\n",
    "print('when K=1\\n') \n",
    "print(confusion_matrix(y_test,p))\n",
    "print('\\n\\nclassification Report\\n')\n",
    "print(classification_report(y_test,p))"
   ]
  },
  {
   "cell_type": "code",
   "execution_count": 79,
   "metadata": {},
   "outputs": [
    {
     "data": {
      "text/plain": [
       "{'1.knn_upscaled': (0.7692, 0.3182, 0.2593),\n",
       " '2.knn_imbscaled': (0.8, 0.037, 0.037),\n",
       " '3.knn_kb10': (0.7846, 0.5333, 0.5926),\n",
       " '4.knn_kb15': (0.7923, 0.3415, 0.2593),\n",
       " '5.knn_kb20': (0.7769, 0.2564, 0.1852),\n",
       " '6.knn_kb25': (0.7846, 0.2632, 0.1852),\n",
       " '7.knn_kb30': (0.7615, 0.2222, 0.2222),\n",
       " '8.knn_kb35': (0.7615, 0.2791, 0.2222)}"
      ]
     },
     "execution_count": 79,
     "metadata": {},
     "output_type": "execute_result"
    }
   ],
   "source": [
    "results['8.knn_kb35'] = (round(metrics.accuracy_score(y_test, p),4), \n",
    "                             round(metrics.f1_score(y_test, p),4),\n",
    "                            round(metrics.recall_score(y_test, p),4))\n",
    "results"
   ]
  },
  {
   "cell_type": "markdown",
   "metadata": {},
   "source": [
    "**Final model**\n",
    "we see that higher accuracy come from knn_kb15 so we featured 15 variables for KNN model."
   ]
  },
  {
   "cell_type": "code",
   "execution_count": 81,
   "metadata": {},
   "outputs": [
    {
     "name": "stdout",
     "output_type": "stream",
     "text": [
      "when K=1\n",
      "\n",
      "[[96  7]\n",
      " [20  7]]\n",
      "\n",
      "\n",
      "classification Report\n",
      "\n",
      "              precision    recall  f1-score   support\n",
      "\n",
      "           0       0.83      0.93      0.88       103\n",
      "           1       0.50      0.26      0.34        27\n",
      "\n",
      "    accuracy                           0.79       130\n",
      "   macro avg       0.66      0.60      0.61       130\n",
      "weighted avg       0.76      0.79      0.77       130\n",
      "\n"
     ]
    },
    {
     "data": {
      "image/png": "[encoded data removed]",
      "text/plain": [
       "<Figure size 640x480 with 2 Axes>"
      ]
     },
     "metadata": {},
     "output_type": "display_data"
    }
   ],
   "source": [
    "knn4 = KNeighborsClassifier(n_neighbors=1)\n",
    "\n",
    "knn4.fit(X_train_kb15scale, y_train_up)\n",
    "p = knn4.predict(X_test_kb15scale)\n",
    "\n",
    "print('when K=1\\n')\n",
    "print(confusion_matrix(y_test,p))\n",
    "print('\\n\\nclassification Report\\n')\n",
    "print(classification_report(y_test,p))\n",
    "cm = confusion_matrix(y_test, p)\n",
    "cm_display = ConfusionMatrixDisplay(cm).plot()"
   ]
  },
  {
   "cell_type": "code",
   "execution_count": null,
   "metadata": {},
   "outputs": [],
   "source": []
  },
  {
   "cell_type": "code",
   "execution_count": null,
   "metadata": {},
   "outputs": [],
   "source": []
  },
  {
   "cell_type": "code",
   "execution_count": null,
   "metadata": {},
   "outputs": [],
   "source": []
  }
 ],
 "metadata": {
  "kernelspec": {
   "display_name": "Python 3 (ipykernel)",
   "language": "python",
   "name": "python3"
  },
  "language_info": {
   "codemirror_mode": {
    "name": "ipython",
    "version": 3
   },
   "file_extension": ".py",
   "mimetype": "text/x-python",
   "name": "python",
   "nbconvert_exporter": "python",
   "pygments_lexer": "ipython3",
   "version": "3.10.9"
  }
 },
 "nbformat": 4,
 "nbformat_minor": 4
}
